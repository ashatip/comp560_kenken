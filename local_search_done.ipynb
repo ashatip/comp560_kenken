{
 "cells": [
  {
   "cell_type": "markdown",
   "metadata": {},
   "source": [
    "# LOCAL SEARCH"
   ]
  },
  {
   "cell_type": "code",
   "execution_count": 3,
   "metadata": {},
   "outputs": [],
   "source": [
    "import random\n",
    "import numpy as np\n",
    "import itertools\n",
    "from functions import *\n",
    "import time"
   ]
  },
  {
   "cell_type": "markdown",
   "metadata": {},
   "source": [
    "## Utility function and Min-conflicts algorithm"
   ]
  },
  {
   "cell_type": "markdown",
   "metadata": {},
   "source": [
    "I mainly changed the else statemnt in min_conflicts\n",
    "but I also changed the parameter orders because it was confusing me"
   ]
  },
  {
   "cell_type": "code",
   "execution_count": 148,
   "metadata": {},
   "outputs": [],
   "source": [
    "def UTILITYFUNCT(B,lettersdict,lettersB):\n",
    "    N=np.shape(B)[0]\n",
    "    R=0\n",
    "    C=0\n",
    "    L=0\n",
    "    Z=0\n",
    "    for i in range(N):\n",
    "        for j in range(N):\n",
    "            if not check_no_zero([i,j],B):\n",
    "                Z=Z+1\n",
    "    for i in range(N):\n",
    "        if not row_checker(i,B):\n",
    "            R=R+1\n",
    "    for j in range(N):\n",
    "        if not column_checker(j,B):\n",
    "            C=C+1\n",
    "    for i in range(N):\n",
    "        for j in range(N):\n",
    "            if not letter_check([i,j],B,lettersB,lettersdict):\n",
    "                L=L+1\n",
    "    #N* R,C because they are worth more than Z,L\n",
    "    U=N*(R+C)+Z+L\n",
    "    return U\n",
    "#INPUTS: INITIAL MATRIX CURRENT, LETTERS OF THE CURRENT,LETTERS DIC\n",
    "def min_conflicts(lettersdict,lettersCURRENT):\n",
    "    dim=len(lettersCURRENT)\n",
    "    CURRENT=np.array([[0]*dim for i in range(dim)])\n",
    "    choices,to_start=get_choices_letters(CURRENT,lettersdict)\n",
    "    #CURRENT is the VALUES OF THE MATRIX\n",
    "    iterat=0\n",
    "    for row in range(0,len(choices)):\n",
    "        for col in range(0,len(choices)):\n",
    "            CURRENT[row,col]=0\n",
    "    #UTILITY FUNCTION U\n",
    "    A=CURRENT\n",
    "    U=UTILITYFUNCT(CURRENT,lettersdict,lettersCURRENT)\n",
    "    UA=U\n",
    "    # is the value at the most constranted location \n",
    "    cur=0\n",
    "\n",
    "    while True:\n",
    "        iterat=iterat+1\n",
    "        #check if its done\n",
    "        if U==0:\n",
    "            return CURRENT,iterat\n",
    "        else:\n",
    "            j=int(to_start[cur][0][0])\n",
    "            k=int(to_start[cur][0][1])\n",
    "            A=CURRENT\n",
    "            #goes to the choices and picks one\n",
    "                ##if it is the last value, goes to the previous value\n",
    "                ###This is the problem\n",
    "            if A[j,k]==choices[j][k][-1]:\n",
    "                last_one=choices[j][k][-1]\n",
    "                place=A[j,k]\n",
    "            ##go through each of the previous values, if they are the last value of the choice martix then set it to 0 and go the the next previous location and do the same check\n",
    "                while place==last_one:\n",
    "                    A[j,k]=0\n",
    "                    cur=cur-1\n",
    "                    if cur==-1:\n",
    "                        return \"No Solution\",iterat\n",
    "                    j=int(to_start[cur][0][0])\n",
    "                    k=int(to_start[cur][0][1])\n",
    "                    ##last_one is the last choice in the choice martix of that location\n",
    "                    last_one=choices[j][k][-1]\n",
    "                    place=A[j,k]\n",
    "                #reset the ulitity function because we went backwards\n",
    "                U=UTILITYFUNCT(A,lettersdict,lettersCURRENT)\n",
    "                ind=(choices[j][k]).index(A[j,k])\n",
    "                A[j,k]=choices[j][k][ind+1]\n",
    "               \n",
    "            #if the value is 0 set it to the first choice\n",
    "            elif A[j,k]==0:\n",
    "                A[j,k]=choices[j][k][0]\n",
    "            #if the value is not zero and the last value, go to the next choice\n",
    "            else:\n",
    "                ind=(choices[j][k]).index(A[j,k])\n",
    "                A[j,k]=choices[j][k][ind+1]\n",
    "            UA=UTILITYFUNCT(A,lettersdict,lettersCURRENT)\n",
    "            #if utility function improved, kept it \n",
    "            if UA<=U:\n",
    "                U=UA\n",
    "                CURRENT=A\n",
    "                if cur<len(to_start)-1:\n",
    "                    cur=cur+1"
   ]
  },
  {
   "cell_type": "code",
   "execution_count": 157,
   "metadata": {},
   "outputs": [],
   "source": [
    "letters_array,solutions,letters_dict=setup(\"sampleData_3_fail.txt\")"
   ]
  },
  {
   "cell_type": "code",
   "execution_count": 158,
   "metadata": {},
   "outputs": [
    {
     "name": "stdout",
     "output_type": "stream",
     "text": [
      "('No Solution', 22)\n"
     ]
    }
   ],
   "source": [
    "print(min_conflicts(letters_dict,letters_array))"
   ]
  },
  {
   "cell_type": "code",
   "execution_count": 151,
   "metadata": {},
   "outputs": [],
   "source": [
    "letters_array,solutions,letters_dict=setup(\"sampleData_4.txt\")"
   ]
  },
  {
   "cell_type": "code",
   "execution_count": 152,
   "metadata": {},
   "outputs": [
    {
     "name": "stdout",
     "output_type": "stream",
     "text": [
      "(array([[4, 1, 3, 2],\n",
      "       [3, 2, 1, 4],\n",
      "       [1, 4, 2, 3],\n",
      "       [2, 3, 4, 1]]), 97)\n"
     ]
    }
   ],
   "source": [
    "print(min_conflicts(letters_dict,letters_array))"
   ]
  },
  {
   "cell_type": "code",
   "execution_count": 153,
   "metadata": {},
   "outputs": [],
   "source": [
    "letters_array,solutions,letters_dict=setup(\"sampleData_5.txt\")"
   ]
  },
  {
   "cell_type": "code",
   "execution_count": 154,
   "metadata": {},
   "outputs": [
    {
     "name": "stdout",
     "output_type": "stream",
     "text": [
      "(array([[5, 3, 4, 1, 2],\n",
      "       [3, 5, 1, 2, 4],\n",
      "       [1, 4, 2, 5, 3],\n",
      "       [2, 1, 3, 4, 5],\n",
      "       [4, 2, 5, 3, 1]]), 396)\n"
     ]
    }
   ],
   "source": [
    "print(min_conflicts(letters_dict,letters_array))"
   ]
  },
  {
   "cell_type": "code",
   "execution_count": 155,
   "metadata": {},
   "outputs": [],
   "source": [
    "letters_array,solutions,letters_dict=setup(\"sampleData_6.txt\")"
   ]
  },
  {
   "cell_type": "code",
   "execution_count": 156,
   "metadata": {},
   "outputs": [
    {
     "name": "stdout",
     "output_type": "stream",
     "text": [
      "(array([[5, 6, 3, 4, 1, 2],\n",
      "       [6, 1, 4, 5, 2, 3],\n",
      "       [4, 5, 2, 3, 6, 1],\n",
      "       [3, 4, 1, 2, 5, 6],\n",
      "       [2, 3, 6, 1, 4, 5],\n",
      "       [1, 2, 5, 6, 3, 4]]), 3368)\n"
     ]
    }
   ],
   "source": [
    "print(min_conflicts(letters_dict,letters_array))"
   ]
  }
 ],
 "metadata": {
  "kernelspec": {
   "display_name": "Python 3",
   "language": "python",
   "name": "python3"
  },
  "language_info": {
   "codemirror_mode": {
    "name": "ipython",
    "version": 3
   },
   "file_extension": ".py",
   "mimetype": "text/x-python",
   "name": "python",
   "nbconvert_exporter": "python",
   "pygments_lexer": "ipython3",
   "version": "3.6.7"
  }
 },
 "nbformat": 4,
 "nbformat_minor": 2
}
