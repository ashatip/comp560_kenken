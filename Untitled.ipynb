{
 "cells": [
  {
   "cell_type": "code",
   "execution_count": null,
   "metadata": {},
   "outputs": [],
   "source": [
    "file=open(r\"sampleData.txt\",)\n"
   ]
  },
  {
   "cell_type": "markdown",
   "metadata": {},
   "source": [
    "setup \n",
    "\n",
    "n=1st line is number\n",
    "for by n\n",
    "    2D array: of letters\n",
    "letters: dictionary\n",
    "\n",
    "constricters\n",
    "\n",
    "row check: when number is place check row if it already has that number\n",
    "\n",
    "column check: when number is place check column if it already has that number\n",
    "\n",
    "letter check: when number is place check letter if it works\n",
    "\n",
    "simple: \n",
    "for loop go through each of the rows one by one and fill it up"
   ]
  }
 ],
 "metadata": {
  "kernelspec": {
   "display_name": "Python 3",
   "language": "python",
   "name": "python3"
  },
  "language_info": {
   "codemirror_mode": {
    "name": "ipython",
    "version": 3
   },
   "file_extension": ".py",
   "mimetype": "text/x-python",
   "name": "python",
   "nbconvert_exporter": "python",
   "pygments_lexer": "ipython3",
   "version": "3.6.7"
  }
 },
 "nbformat": 4,
 "nbformat_minor": 2
}
