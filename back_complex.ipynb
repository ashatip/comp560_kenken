{
 "cells": [
  {
   "cell_type": "code",
   "execution_count": 10,
   "metadata": {},
   "outputs": [],
   "source": [
    "from functions import *\n",
    "import math"
   ]
  },
  {
   "cell_type": "code",
   "execution_count": 17,
   "metadata": {},
   "outputs": [],
   "source": [
    "def prime_factors(n):\n",
    "    x=list()\n",
    "    while n%2==0:\n",
    "        x.append(2)\n",
    "        n=n/2\n",
    "    for i in range(3,int(math.sqrt(n))+1,2):\n",
    "        while n%i==0:\n",
    "            x.append(int(i))\n",
    "            n=n/i\n",
    "    if n>2:\n",
    "        x.append(int(n))\n",
    "    return x"
   ]
  },
  {
   "cell_type": "code",
   "execution_count": 12,
   "metadata": {},
   "outputs": [],
   "source": [
    "def setup_complex(file_name):\n",
    "    #open the file\n",
    "    file=open(file_name,\"r\")\n",
    "    #read the first line\n",
    "    dim=int(file.readline(1))\n",
    "    #creating arrays\n",
    "    letter_array=[[0]*dim for i in range(dim)]\n",
    "    solution=np.array([[0]*dim for i in range(dim)])\n",
    "    #letter_dict: keys are the letters,\n",
    "    ##values are an array: first index: operation\n",
    "    ###example: 11+\n",
    "    ##second value: array with places of the letter\n",
    "    letter_dict=dict()\n",
    "    #loop through each line and put it in an array\n",
    "    y=0\n",
    "    for line in file:\n",
    "        if line=='\\n':\n",
    "            next\n",
    "        elif y==dim:\n",
    "            #add letter operations\n",
    "            oper=line.strip().split(\":\")\n",
    "            letter_dict[oper[0]][0]=oper[1]\n",
    "            next\n",
    "        else:\n",
    "            #adding value to array\n",
    "            letter_array[y]=list(line.strip())\n",
    "            #adding letter to dictionary and location\n",
    "            x=0\n",
    "            for key in list(line.strip()):\n",
    "                if key in letter_dict:\n",
    "                    letter_dict[key].append([y,x])\n",
    "                else:\n",
    "                    letter_dict[key]=[\"\",[y,x]]\n",
    "                x=x+1\n",
    "            y=y+1\n",
    "    return letter_array,solution,letter_dict"
   ]
  },
  {
   "cell_type": "code",
   "execution_count": 13,
   "metadata": {},
   "outputs": [],
   "source": [
    "letter_array,solution,letter_dict=setup(\"sampleData_6.txt\")"
   ]
  },
  {
   "cell_type": "code",
   "execution_count": 18,
   "metadata": {},
   "outputs": [
    {
     "data": {
      "text/plain": [
       "[2, 2, 5]"
      ]
     },
     "execution_count": 18,
     "metadata": {},
     "output_type": "execute_result"
    }
   ],
   "source": [
    "prime_factors(20)"
   ]
  },
  {
   "cell_type": "code",
   "execution_count": 5,
   "metadata": {},
   "outputs": [
    {
     "data": {
      "text/plain": [
       "{'A': ['11+', [0, 0], [1, 0]],\n",
       " 'B': ['2/', [0, 1], [0, 2]],\n",
       " 'C': ['20*', [0, 3], [1, 3]],\n",
       " 'D': ['6*', [0, 4], [0, 5], [1, 5], [2, 5]],\n",
       " 'E': ['3-', [1, 1], [1, 2]],\n",
       " 'F': ['3/', [1, 4], [2, 4]],\n",
       " 'G': ['240*', [2, 0], [2, 1], [3, 0], [3, 1]],\n",
       " 'H': ['6*', [2, 2], [2, 3]],\n",
       " 'I': ['6*', [3, 2], [4, 2]],\n",
       " 'J': ['7+', [3, 3], [4, 3], [4, 4]],\n",
       " 'K': ['30*', [3, 4], [3, 5]],\n",
       " 'L': ['6*', [4, 0], [4, 1]],\n",
       " 'M': ['9+', [4, 5], [5, 5]],\n",
       " 'N': ['8+', [5, 0], [5, 1], [5, 2]],\n",
       " 'O': ['2/', [5, 3], [5, 4]]}"
      ]
     },
     "execution_count": 5,
     "metadata": {},
     "output_type": "execute_result"
    }
   ],
   "source": [
    "choices=[[0]*dim for i in range(dim)]\n",
    "for key in letter_dict.keys():\n",
    "    length=len(letter_dict.get(key))-1\n",
    "    oper=letter_dict.get(key)[0][-1]\n",
    "    if oper.isdigit(): \n",
    "        total=int(letter_dict.get(key)[0])\n",
    "    else:\n",
    "        total=int(letter_dict.get(key)[0][:-1])\n",
    "    if oper==\"*\":\n",
    "    elif oper==\"-\":\n",
    "    elif oper==\"/\":\n",
    "    else:\n",
    "    "
   ]
  },
  {
   "cell_type": "code",
   "execution_count": 8,
   "metadata": {},
   "outputs": [
    {
     "data": {
      "text/plain": [
       "2"
      ]
     },
     "execution_count": 8,
     "metadata": {},
     "output_type": "execute_result"
    }
   ],
   "source": [
    "len(letter_dict.get(\"A\"))-1"
   ]
  },
  {
   "cell_type": "code",
   "execution_count": 6,
   "metadata": {},
   "outputs": [
    {
     "data": {
      "text/plain": [
       "{'A': ['11+', [0, 0], [1, 0]],\n",
       " 'B': ['2/', [0, 1], [0, 2]],\n",
       " 'C': ['20*', [0, 3], [1, 3]],\n",
       " 'D': ['6*', [0, 4], [0, 5], [1, 5], [2, 5]],\n",
       " 'E': ['3-', [1, 1], [1, 2]],\n",
       " 'F': ['3/', [1, 4], [2, 4]],\n",
       " 'G': ['240*', [2, 0], [2, 1], [3, 0], [3, 1]],\n",
       " 'H': ['6*', [2, 2], [2, 3]],\n",
       " 'I': ['6*', [3, 2], [4, 2]],\n",
       " 'J': ['7+', [3, 3], [4, 3], [4, 4]],\n",
       " 'K': ['30*', [3, 4], [3, 5]],\n",
       " 'L': ['6*', [4, 0], [4, 1]],\n",
       " 'M': ['9+', [4, 5], [5, 5]],\n",
       " 'N': ['8+', [5, 0], [5, 1], [5, 2]],\n",
       " 'O': ['2/', [5, 3], [5, 4]]}"
      ]
     },
     "execution_count": 6,
     "metadata": {},
     "output_type": "execute_result"
    }
   ],
   "source": [
    "letter_dict"
   ]
  },
  {
   "cell_type": "code",
   "execution_count": null,
   "metadata": {},
   "outputs": [],
   "source": [
    "ex_sol,i=simple_back(letter_array,solution,letter_dict)"
   ]
  },
  {
   "cell_type": "code",
   "execution_count": 328,
   "metadata": {},
   "outputs": [
    {
     "data": {
      "text/plain": [
       "array([[1, 0, 0, 0, 0, 0],\n",
       "       [0, 0, 0, 0, 0, 0],\n",
       "       [0, 0, 0, 0, 0, 0],\n",
       "       [0, 0, 0, 0, 0, 0],\n",
       "       [0, 0, 0, 0, 0, 0],\n",
       "       [0, 0, 0, 0, 0, 0]])"
      ]
     },
     "execution_count": 328,
     "metadata": {},
     "output_type": "execute_result"
    }
   ],
   "source": [
    "ex_sol"
   ]
  },
  {
   "cell_type": "code",
   "execution_count": 325,
   "metadata": {},
   "outputs": [
    {
     "data": {
      "text/plain": [
       "array([[0, 0, 0, 0, 0, 0],\n",
       "       [0, 0, 0, 0, 0, 0],\n",
       "       [0, 0, 0, 0, 0, 0],\n",
       "       [0, 0, 0, 0, 0, 0],\n",
       "       [0, 0, 0, 0, 0, 0],\n",
       "       [0, 0, 0, 0, 0, 0]])"
      ]
     },
     "execution_count": 325,
     "metadata": {},
     "output_type": "execute_result"
    }
   ],
   "source": [
    "solution"
   ]
  },
  {
   "cell_type": "code",
   "execution_count": 281,
   "metadata": {},
   "outputs": [],
   "source": [
    "#unittest"
   ]
  },
  {
   "cell_type": "code",
   "execution_count": 282,
   "metadata": {},
   "outputs": [
    {
     "name": "stdout",
     "output_type": "stream",
     "text": [
      "True\n"
     ]
    }
   ],
   "source": [
    "#checkrow\n",
    "test_number=[[random.randint(1,6)]*dim for i in range(dim)]\n",
    "a=row_checker(1,test_number)==False\n",
    "test_number[1]=[1,2,3,4,5,6]\n",
    "b=row_checker(1,test_number)==True\n",
    "test_number[1]=[0,0,2,4,5,6]\n",
    "c=row_checker(1,test_number)==True\n",
    "test_number[1]=[0,0,2,2,5,6]\n",
    "d=row_checker(1,test_number)==False\n",
    "test_number[1]=[0,0,0,0,0,0]\n",
    "e=row_checker(1,test_number)==True\n",
    "print(a==b==c==d==e==True)"
   ]
  },
  {
   "cell_type": "code",
   "execution_count": 283,
   "metadata": {},
   "outputs": [
    {
     "name": "stdout",
     "output_type": "stream",
     "text": [
      "True\n"
     ]
    }
   ],
   "source": [
    "#checkcolumn\n",
    "test_number=np.array([[0]*dim for i in range(dim)])\n",
    "a=column_checker(1,test_number)==True\n",
    "test_number[:,1]=[1,2,3,4,5,6]\n",
    "b=column_checker(1,test_number)==True\n",
    "test_number[:,1]=[0,0,2,4,5,6]\n",
    "c=column_checker(1,test_number)==True\n",
    "test_number[:,1]=[0,0,2,2,5,6]\n",
    "d=column_checker(1,test_number)==False\n",
    "test_number[:,1]=[0,0,0,0,0,0]\n",
    "e=column_checker(1,test_number)==True\n",
    "print(a==b==c==d==e==True)"
   ]
  },
  {
   "cell_type": "code",
   "execution_count": 22,
   "metadata": {},
   "outputs": [
    {
     "data": {
      "text/plain": [
       "True"
      ]
     },
     "execution_count": 22,
     "metadata": {},
     "output_type": "execute_result"
    }
   ],
   "source": [
    "real_sol=\"563412 614523 452361 341256 236145 125634\"\n",
    "real_sol=real_sol.split(\" \")\n",
    "for y in range(0,len(real_sol)):\n",
    "    real_sol[y]=list(real_sol[y])\n",
    "check_all(real_sol,letter_array,letter_dict)"
   ]
  },
  {
   "cell_type": "code",
   "execution_count": 23,
   "metadata": {},
   "outputs": [
    {
     "name": "stdout",
     "output_type": "stream",
     "text": [
      "True\n",
      "True\n",
      "!!!False\n",
      "False\n",
      "False\n",
      "True\n",
      "!!!False\n"
     ]
    }
   ],
   "source": [
    "\n",
    "for y in range(0,len(real_sol)):\n",
    "    for x in range(0,len(real_sol)):\n",
    "        if not (letter_check([x,y],real_sol,letter_array,letter_dict)):\n",
    "            print(False)\n",
    "            break \n",
    "print(True)\n",
    "\n",
    "real_sol[1][1]=0\n",
    "for y in range(0,len(real_sol)):\n",
    "    for x in range(0,len(real_sol)):\n",
    "        if not (letter_check([x,y],real_sol,letter_array,letter_dict)):\n",
    "            print(False)\n",
    "            break \n",
    "print(True)\n",
    "print(\"!!!\"+str(check_all(real_sol,letter_array,letter_dict)))\n",
    "\n",
    "real_sol[1][1]=4\n",
    "for y in range(0,len(real_sol)):\n",
    "    for x in range(0,len(real_sol)):\n",
    "        if not (letter_check([x,y],real_sol,letter_array,letter_dict)):\n",
    "            print(False)\n",
    "            break \n",
    "print(True)\n",
    "print(\"!!!\"+str(check_all(real_sol,letter_array,letter_dict)))"
   ]
  },
  {
   "cell_type": "code",
   "execution_count": 304,
   "metadata": {},
   "outputs": [
    {
     "data": {
      "text/plain": [
       "True"
      ]
     },
     "execution_count": 304,
     "metadata": {},
     "output_type": "execute_result"
    }
   ],
   "source": [
    "check_no_zero(real_sol)"
   ]
  },
  {
   "cell_type": "code",
   "execution_count": 305,
   "metadata": {},
   "outputs": [
    {
     "data": {
      "text/plain": [
       "False"
      ]
     },
     "execution_count": 305,
     "metadata": {},
     "output_type": "execute_result"
    }
   ],
   "source": [
    "real_sol[1][1]=0\n",
    "check_no_zero(real_sol)"
   ]
  },
  {
   "cell_type": "code",
   "execution_count": null,
   "metadata": {},
   "outputs": [],
   "source": []
  }
 ],
 "metadata": {
  "kernelspec": {
   "display_name": "Python 3",
   "language": "python",
   "name": "python3"
  },
  "language_info": {
   "codemirror_mode": {
    "name": "ipython",
    "version": 3
   },
   "file_extension": ".py",
   "mimetype": "text/x-python",
   "name": "python",
   "nbconvert_exporter": "python",
   "pygments_lexer": "ipython3",
   "version": "3.6.7"
  }
 },
 "nbformat": 4,
 "nbformat_minor": 2
}
