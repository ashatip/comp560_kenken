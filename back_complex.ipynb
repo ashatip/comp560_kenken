{
 "cells": [
  {
   "cell_type": "code",
   "execution_count": 3,
   "metadata": {},
   "outputs": [],
   "source": [
    "from functions import *\n",
    "import math"
   ]
  },
  {
   "cell_type": "code",
   "execution_count": 80,
   "metadata": {},
   "outputs": [],
   "source": [
    "def prime_factors(n):\n",
    "    x=list()\n",
    "    x.append(1)\n",
    "    while n%2==0:\n",
    "        x.append(2)\n",
    "        n=n/2\n",
    "    for i in range(3,int(math.sqrt(n))+1,2):\n",
    "        while n%i==0:\n",
    "            x.append(int(i))\n",
    "            n=n/i\n",
    "    if n>2:\n",
    "        x.append(int(n))\n",
    "    return x"
   ]
  },
  {
   "cell_type": "code",
   "execution_count": 113,
   "metadata": {},
   "outputs": [],
   "source": [
    "def get_choices_letters(solution,letter_dict):\n",
    "    choices=[[0]*len(solution) for i in range(0,len(solution))]\n",
    "    for key in letter_dict.keys():\n",
    "        length=len(letter_dict.get(key))-1\n",
    "        oper=letter_dict.get(key)[0][-1]\n",
    "        locations=letter_dict.get(key)[1:]\n",
    "        if oper.isdigit(): \n",
    "            total=int(letter_dict.get(key)[0])\n",
    "        else:\n",
    "            total=int(letter_dict.get(key)[0][:-1])\n",
    "        options=[]\n",
    "        if oper==\"+\":\n",
    "            for pos in range(1,len(solution)):\n",
    "                if pos>=total:\n",
    "                    continue\n",
    "                elif (total-pos)/length>len(solution):\n",
    "                    continue\n",
    "                options.append(pos)\n",
    "        elif oper==\"*\":\n",
    "            primes=prime_factors(total)\n",
    "            for pos in range(1,len(solution)):\n",
    "                #check if the guess's factors are in the total's factor\n",
    "                if all(elem in primes for elem in prime_factors(pos)):\n",
    "                    # checks if it can fit inside the given space.\n",
    "                    ##thinking about it\n",
    "                    options.append(pos)\n",
    "        elif oper==\"-\":\n",
    "            for pos in range(1,len(solution)):\n",
    "                if total+pos<len(solution)+1:\n",
    "                    options.append(pos)\n",
    "                    options.append(total+pos)\n",
    "        elif oper==\"/\":\n",
    "            for pos in range(1,len(solution)):\n",
    "                if total*pos<len(solution)+1:\n",
    "                    options.append(pos)\n",
    "                    options.append(total*pos)\n",
    "        else:\n",
    "            options=[total]\n",
    "        for loc in locations:\n",
    "                choices[loc[0]][loc[1]]=list(set(options))    \n",
    "    return choices"
   ]
  },
  {
   "cell_type": "code",
   "execution_count": 118,
   "metadata": {},
   "outputs": [],
   "source": [
    "def complex_back(letter_array,matrix,letter_dict):\n",
    "    choices=get_choices_letters(matrix,letter_dict)\n",
    "    i=0\n",
    "    row=0\n",
    "    column=0\n",
    "    while(True):\n",
    "        i=1+i\n",
    "        if check_all(matrix,letter_array,letter_dict):\n",
    "            return matrix, i\n",
    "        else:\n",
    "            if matrix[row,column]==0:\n",
    "                matrix[row,column]=choices[row][column][0]\n",
    "            elif (True==\n",
    "                    letter_check([row,column],matrix,letter_array,letter_dict)==\n",
    "                    column_checker(column,matrix)==\n",
    "                    row_checker(row,matrix)\n",
    "                    ):\n",
    "                        if(column==len(matrix)-1):\n",
    "                            column=0\n",
    "                            row=1+row\n",
    "                        else:\n",
    "                            column=column+1\n",
    "            elif matrix[row,column]==choices[row][column][-1]:\n",
    "                last_one=choices[row][column][-1]\n",
    "                while matrix[row,column]==last_one:\n",
    "                    matrix[row,column]=0\n",
    "                    if column==0:\n",
    "                        column=len(matrix)-1\n",
    "                        row=row-1\n",
    "                    else:\n",
    "                        column=column-1\n",
    "                    last_one=choices[row][column][-1]\n",
    "                if matrix[row,column]==0:\n",
    "                    matrix[row,column]=choices[row][column][0]\n",
    "                else:\n",
    "                    ind=(choices[row][column]).index(matrix[row,column])\n",
    "                    matrix[row,column]=choices[row][column][ind+1]\n",
    "            else:\n",
    "                ind=(choices[row][column]).index(matrix[row,column])\n",
    "                matrix[row,column]=choices[row][column][ind+1]"
   ]
  },
  {
   "cell_type": "code",
   "execution_count": 119,
   "metadata": {},
   "outputs": [],
   "source": [
    "letter_array,solution,letter_dict=setup(\"sampleData_3.txt\")"
   ]
  },
  {
   "cell_type": "code",
   "execution_count": 120,
   "metadata": {},
   "outputs": [
    {
     "data": {
      "text/plain": [
       "[[[1, 2], [1, 2, 3], [1, 2, 3]],\n",
       " [[1, 2], [1, 3], [1, 3]],\n",
       " [[1, 3], [1, 3], [2]]]"
      ]
     },
     "execution_count": 120,
     "metadata": {},
     "output_type": "execute_result"
    }
   ],
   "source": [
    "choices=get_choices_letters(ex_sol,letter_dict)\n",
    "choices"
   ]
  },
  {
   "cell_type": "code",
   "execution_count": 121,
   "metadata": {},
   "outputs": [],
   "source": [
    "ex_sol,i=complex_back(letter_array,solution,letter_dict)"
   ]
  },
  {
   "cell_type": "code",
   "execution_count": 122,
   "metadata": {},
   "outputs": [
    {
     "data": {
      "text/plain": [
       "array([[1, 2, 3],\n",
       "       [2, 3, 1],\n",
       "       [3, 1, 2]])"
      ]
     },
     "execution_count": 122,
     "metadata": {},
     "output_type": "execute_result"
    }
   ],
   "source": [
    "ex_sol"
   ]
  },
  {
   "cell_type": "code",
   "execution_count": 123,
   "metadata": {},
   "outputs": [
    {
     "data": {
      "text/plain": [
       "27"
      ]
     },
     "execution_count": 123,
     "metadata": {},
     "output_type": "execute_result"
    }
   ],
   "source": [
    "i"
   ]
  },
  {
   "cell_type": "code",
   "execution_count": 281,
   "metadata": {},
   "outputs": [],
   "source": [
    "#unittest"
   ]
  },
  {
   "cell_type": "code",
   "execution_count": 282,
   "metadata": {},
   "outputs": [
    {
     "name": "stdout",
     "output_type": "stream",
     "text": [
      "True\n"
     ]
    }
   ],
   "source": [
    "#checkrow\n",
    "test_number=[[random.randint(1,6)]*dim for i in range(dim)]\n",
    "a=row_checker(1,test_number)==False\n",
    "test_number[1]=[1,2,3,4,5,6]\n",
    "b=row_checker(1,test_number)==True\n",
    "test_number[1]=[0,0,2,4,5,6]\n",
    "c=row_checker(1,test_number)==True\n",
    "test_number[1]=[0,0,2,2,5,6]\n",
    "d=row_checker(1,test_number)==False\n",
    "test_number[1]=[0,0,0,0,0,0]\n",
    "e=row_checker(1,test_number)==True\n",
    "print(a==b==c==d==e==True)"
   ]
  },
  {
   "cell_type": "code",
   "execution_count": 283,
   "metadata": {},
   "outputs": [
    {
     "name": "stdout",
     "output_type": "stream",
     "text": [
      "True\n"
     ]
    }
   ],
   "source": [
    "#checkcolumn\n",
    "test_number=np.array([[0]*dim for i in range(dim)])\n",
    "a=column_checker(1,test_number)==True\n",
    "test_number[:,1]=[1,2,3,4,5,6]\n",
    "b=column_checker(1,test_number)==True\n",
    "test_number[:,1]=[0,0,2,4,5,6]\n",
    "c=column_checker(1,test_number)==True\n",
    "test_number[:,1]=[0,0,2,2,5,6]\n",
    "d=column_checker(1,test_number)==False\n",
    "test_number[:,1]=[0,0,0,0,0,0]\n",
    "e=column_checker(1,test_number)==True\n",
    "print(a==b==c==d==e==True)"
   ]
  },
  {
   "cell_type": "code",
   "execution_count": 22,
   "metadata": {},
   "outputs": [
    {
     "data": {
      "text/plain": [
       "True"
      ]
     },
     "execution_count": 22,
     "metadata": {},
     "output_type": "execute_result"
    }
   ],
   "source": [
    "real_sol=\"563412 614523 452361 341256 236145 125634\"\n",
    "real_sol=real_sol.split(\" \")\n",
    "for y in range(0,len(real_sol)):\n",
    "    real_sol[y]=list(real_sol[y])\n",
    "check_all(real_sol,letter_array,letter_dict)"
   ]
  },
  {
   "cell_type": "code",
   "execution_count": 23,
   "metadata": {},
   "outputs": [
    {
     "name": "stdout",
     "output_type": "stream",
     "text": [
      "True\n",
      "True\n",
      "!!!False\n",
      "False\n",
      "False\n",
      "True\n",
      "!!!False\n"
     ]
    }
   ],
   "source": [
    "\n",
    "for y in range(0,len(real_sol)):\n",
    "    for x in range(0,len(real_sol)):\n",
    "        if not (letter_check([x,y],real_sol,letter_array,letter_dict)):\n",
    "            print(False)\n",
    "            break \n",
    "print(True)\n",
    "\n",
    "real_sol[1][1]=0\n",
    "for y in range(0,len(real_sol)):\n",
    "    for x in range(0,len(real_sol)):\n",
    "        if not (letter_check([x,y],real_sol,letter_array,letter_dict)):\n",
    "            print(False)\n",
    "            break \n",
    "print(True)\n",
    "print(\"!!!\"+str(check_all(real_sol,letter_array,letter_dict)))\n",
    "\n",
    "real_sol[1][1]=4\n",
    "for y in range(0,len(real_sol)):\n",
    "    for x in range(0,len(real_sol)):\n",
    "        if not (letter_check([x,y],real_sol,letter_array,letter_dict)):\n",
    "            print(False)\n",
    "            break \n",
    "print(True)\n",
    "print(\"!!!\"+str(check_all(real_sol,letter_array,letter_dict)))"
   ]
  },
  {
   "cell_type": "code",
   "execution_count": 304,
   "metadata": {},
   "outputs": [
    {
     "data": {
      "text/plain": [
       "True"
      ]
     },
     "execution_count": 304,
     "metadata": {},
     "output_type": "execute_result"
    }
   ],
   "source": [
    "check_no_zero(real_sol)"
   ]
  },
  {
   "cell_type": "code",
   "execution_count": 305,
   "metadata": {},
   "outputs": [
    {
     "data": {
      "text/plain": [
       "False"
      ]
     },
     "execution_count": 305,
     "metadata": {},
     "output_type": "execute_result"
    }
   ],
   "source": [
    "real_sol[1][1]=0\n",
    "check_no_zero(real_sol)"
   ]
  },
  {
   "cell_type": "code",
   "execution_count": null,
   "metadata": {},
   "outputs": [],
   "source": []
  }
 ],
 "metadata": {
  "kernelspec": {
   "display_name": "Python 3",
   "language": "python",
   "name": "python3"
  },
  "language_info": {
   "codemirror_mode": {
    "name": "ipython",
    "version": 3
   },
   "file_extension": ".py",
   "mimetype": "text/x-python",
   "name": "python",
   "nbconvert_exporter": "python",
   "pygments_lexer": "ipython3",
   "version": "3.6.7"
  }
 },
 "nbformat": 4,
 "nbformat_minor": 2
}
