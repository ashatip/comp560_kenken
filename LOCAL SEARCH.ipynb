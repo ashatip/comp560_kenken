{
 "cells": [
  {
   "cell_type": "markdown",
   "metadata": {},
   "source": [
    "# LOCAL SEARCH"
   ]
  },
  {
   "cell_type": "code",
   "execution_count": 1,
   "metadata": {},
   "outputs": [],
   "source": [
    "import random\n",
    "import numpy as np\n",
    "import itertools\n",
    "from functions import *\n",
    "import time"
   ]
  },
  {
   "cell_type": "markdown",
   "metadata": {},
   "source": [
    "## Utility function and Min-conflicts algorithm"
   ]
  },
  {
   "cell_type": "code",
<<<<<<< HEAD
   "execution_count": 41,
=======
   "execution_count": 2,
>>>>>>> 0f6189654727f7a5e6e1698d4336f50d70e5b172
   "metadata": {},
   "outputs": [],
   "source": [
    "#OUT UTILITY FUNCTION DEFINED BY U=R+C+L\n",
    "#R->NUMBER OF ROWS WITH EQUAL NUMBERS\n",
    "#C->NUMBER OF COLUMNS WITH EQUAL NUMBERS\n",
    "#L->NUMBER OF LOCATIONS THAT DON'T SATISFY THE LETTER RESTRICTION\n",
    "def UTILITYFUNCT(B,lettersdict,lettersB):\n",
    "    N=np.shape(B)[0]\n",
    "    R=0\n",
    "    C=0\n",
    "    L=0\n",
    "    for i in range(N):\n",
    "        if not row_checker(i,B):\n",
    "            R=R+1\n",
    "    for j in range(N):\n",
    "        if not column_checker(j,B):\n",
    "            C=C+1\n",
    "    for i in range(N):\n",
    "        for j in range(N):\n",
    "            if not letter_check([i,j],B,lettersB,lettersdict):\n",
    "                L=L+1\n",
    "    U=R+C+L \n",
    "    return U\n",
    "#INPUTS: INITIAL MATRIX CURRENT, LETTERS OF THE CURRENT,LETTERS DIC AND MAXIMUM ALLOWED NUMBER OF STEPS\n",
    "def MIN_CONFLICTS(CURRENT,lettersCURRENT,lettersdic,maxsteps):    \n",
    "    #CURRENT is the VALUES OF THE MATRIX\n",
    "    iterat=0\n",
    "    N=len(CURRENT)\n",
    "    A=CURRENT\n",
    "    #UTILITY FUNCTION U\n",
    "    U=UTILITYFUNCT(CURRENT,lettersdic,lettersCURRENT)\n",
    "    UA=UTILITYFUNCT(A,lettersdic,lettersCURRENT)\n",
    "    for i in range(maxsteps):\n",
    "        iterat=iterat+1\n",
    "        if U==0:\n",
    "            print(\"U=\",U)\n",
    "            print(CURRENT, 'is the solution for the problem')\n",
    "            print(\"The number of iterations was\",iterat)\n",
    "            return CURRENT\n",
    "        else:\n",
    "            #RANDOM NUMBERS FOR EACH VARIABLE\n",
    "            for j in range(N):\n",
    "                for k in range(N):\n",
    "                    A=CURRENT\n",
    "                    A[j,k]=random.randint(1,N)\n",
    "                    UA=UTILITYFUNCT(A,lettersdic,lettersCURRENT)\n",
    "                    if UA<U:\n",
    "                        print(\"U=\",U)\n",
    "                        U=UA\n",
    "                        CURRENT=A                 \n",
    "    print(\"THE ALGORITHM DID NOT FIND THE FINAL SOLUTION AFTER\", maxsteps, \"ITERATIONS\")\n",
    "    print(\"THE FINAL UTILITY FUNCTION WAS\",U,\"WITH MATRIX\",CURRENT)\n",
    "    "
   ]
  },
  {
   "cell_type": "code",
<<<<<<< HEAD
   "execution_count": 44,
=======
   "execution_count": null,
   "metadata": {},
   "outputs": [],
   "source": []
  },
  {
   "cell_type": "code",
   "execution_count": 3,
>>>>>>> 0f6189654727f7a5e6e1698d4336f50d70e5b172
   "metadata": {},
   "outputs": [
    {
     "name": "stdout",
     "output_type": "stream",
     "text": [
<<<<<<< HEAD
      "[[0 0 0]\n",
      " [0 0 0]\n",
      " [0 0 0]]\n"
     ]
    },
    {
     "ename": "IndexError",
     "evalue": "list index out of range",
     "output_type": "error",
     "traceback": [
      "\u001b[1;31m---------------------------------------------------------------------------\u001b[0m",
      "\u001b[1;31mIndexError\u001b[0m                                Traceback (most recent call last)",
      "\u001b[1;32m<ipython-input-44-367903c7c03e>\u001b[0m in \u001b[0;36m<module>\u001b[1;34m\u001b[0m\n\u001b[0;32m     11\u001b[0m \u001b[1;31m#We start with different numbers in each row\u001b[0m\u001b[1;33m\u001b[0m\u001b[1;33m\u001b[0m\u001b[1;33m\u001b[0m\u001b[0m\n\u001b[0;32m     12\u001b[0m \u001b[1;32mfor\u001b[0m \u001b[0mi\u001b[0m \u001b[1;32min\u001b[0m \u001b[0mrange\u001b[0m\u001b[1;33m(\u001b[0m\u001b[0mm\u001b[0m\u001b[1;33m)\u001b[0m\u001b[1;33m:\u001b[0m\u001b[1;33m\u001b[0m\u001b[1;33m\u001b[0m\u001b[0m\n\u001b[1;32m---> 13\u001b[1;33m         \u001b[0mB\u001b[0m\u001b[1;33m[\u001b[0m\u001b[0mi\u001b[0m\u001b[1;33m]\u001b[0m\u001b[1;33m=\u001b[0m\u001b[0mperm\u001b[0m\u001b[1;33m[\u001b[0m\u001b[0mrandom\u001b[0m\u001b[1;33m.\u001b[0m\u001b[0mrandint\u001b[0m\u001b[1;33m(\u001b[0m\u001b[1;36m0\u001b[0m\u001b[1;33m,\u001b[0m\u001b[0mL\u001b[0m\u001b[1;33m)\u001b[0m\u001b[1;33m]\u001b[0m\u001b[1;33m\u001b[0m\u001b[1;33m\u001b[0m\u001b[0m\n\u001b[0m\u001b[0;32m     14\u001b[0m \u001b[1;31m#UTILITY FUNCTION: U=R+C+L; R=ROWS REPEATED,C=COLUMNS REPEATED, L=NUMBER OF LETTERS WHO DON'T GET THE RESULT\u001b[0m\u001b[1;33m\u001b[0m\u001b[1;33m\u001b[0m\u001b[1;33m\u001b[0m\u001b[0m\n\u001b[0;32m     15\u001b[0m \u001b[1;31m# We want obtain 0 in this function\u001b[0m\u001b[1;33m\u001b[0m\u001b[1;33m\u001b[0m\u001b[1;33m\u001b[0m\u001b[0m\n",
      "\u001b[1;31mIndexError\u001b[0m: list index out of range"
=======
      "[[1 2 3]\n",
      " [2 3 1]\n",
      " [3 2 1]] is not the solution for the problem\n",
      "the initial utility function is 5\n",
      "[[1 2 3]\n",
      " [2 1 1]\n",
      " [1 2 1]] is the solution for the problem\n",
      "the time of execution was 4.7448570728302\n"
>>>>>>> 0f6189654727f7a5e6e1698d4336f50d70e5b172
     ]
    }
   ],
   "source": [
    "start=time.time()\n",
<<<<<<< HEAD
    "lettersB,B,lettersdictB=setup(\"sampleData_3.txt\")\n",
=======
    "lettersA,A,lettersdict=setup(\"sampleData_3.txt\")\n",
>>>>>>> 0f6189654727f7a5e6e1698d4336f50d70e5b172
    "# FIRST ASSIGNMENT\n",
    "print(B)\n",
    "N=len(B)\n",
    "max_steps=10**4\n",
    "#THIS IS JUST FOR CREATING THE FIRST INITIAL MATRIX WITH ALL NUMBERS DIFFERENT IN EACH ROW\n",
    "v=[i for i in range(1,n+1)]\n",
    "perm=list(itertools.permutations(v))\n",
    "L=len(perm)\n",
    "#We start with different numbers in each row\n",
    "for i in range(m):\n",
    "        B[i]=perm[random.randint(0,L)]\n",
    "#UTILITY FUNCTION: U=R+C+L; R=ROWS REPEATED,C=COLUMNS REPEATED, L=NUMBER OF LETTERS WHO DON'T GET THE RESULT\n",
    "# We want obtain 0 in this function\n",
    "U0=UTILITYFUNCT(B,lettersdict,lettersB)    \n",
    "print(\"the initial utility function is\",U0)\n",
    "MIN_CONFLICTS(B,lettersB,lettersdict,max_steps)\n",
    "finish=time.time()-start\n",
    "print(\"the time of execution was\",finish)"
   ]
  },
  {
   "cell_type": "code",
<<<<<<< HEAD
   "execution_count": 37,
   "metadata": {},
   "outputs": [
    {
     "data": {
      "text/plain": [
       "3"
      ]
     },
     "execution_count": 37,
     "metadata": {},
     "output_type": "execute_result"
    }
   ],
   "source": [
    "len(A)\n"
   ]
  },
  {
   "cell_type": "code",
   "execution_count": 45,
   "metadata": {},
   "outputs": [
    {
     "data": {
      "text/plain": [
       "6"
      ]
     },
     "execution_count": 45,
     "metadata": {},
     "output_type": "execute_result"
    }
   ],
   "source": [
    "L"
   ]
  },
  {
   "cell_type": "code",
=======
>>>>>>> 0f6189654727f7a5e6e1698d4336f50d70e5b172
   "execution_count": null,
   "metadata": {},
   "outputs": [],
   "source": []
  }
 ],
 "metadata": {
  "kernelspec": {
   "display_name": "Python 3",
   "language": "python",
   "name": "python3"
  },
  "language_info": {
   "codemirror_mode": {
    "name": "ipython",
    "version": 3
   },
   "file_extension": ".py",
   "mimetype": "text/x-python",
   "name": "python",
   "nbconvert_exporter": "python",
   "pygments_lexer": "ipython3",
   "version": "3.6.7"
  }
 },
 "nbformat": 4,
 "nbformat_minor": 2
}
