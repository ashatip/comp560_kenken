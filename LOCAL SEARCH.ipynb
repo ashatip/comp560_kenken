{
 "cells": [
  {
   "cell_type": "markdown",
   "metadata": {},
   "source": [
    "# LOCAL SEARCH"
   ]
  },
  {
   "cell_type": "code",
   "execution_count": 3,
   "metadata": {},
   "outputs": [],
   "source": [
    "import random\n",
    "import numpy as np\n",
    "import itertools\n",
    "from functions import *\n",
    "import time"
   ]
  },
  {
   "cell_type": "markdown",
   "metadata": {},
   "source": [
    "## Utility function and Min-conflicts algorithm"
   ]
  },
  {
   "cell_type": "code",
   "execution_count": 4,
   "metadata": {},
   "outputs": [],
   "source": [
    "#OUT UTILITY FUNCTION DEFINED BY U=R+C+L\n",
    "#R->NUMBER OF ROWS WITH EQUAL NUMBERS\n",
    "#C->NUMBER OF COLUMNS WITH EQUAL NUMBERS\n",
    "#L->NUMBER OF LOCATIONS THAT DON'T SATISFY THE LETTER RESTRICTION\n",
    "def UTILITYFUNCT(B,lettersdict,lettersB):\n",
    "    N=np.shape(B)[0]\n",
    "    R=0\n",
    "    C=0\n",
    "    L=0\n",
    "    for i in range(N):\n",
    "        if not row_checker(i,B):\n",
    "            R=R+1\n",
    "    for j in range(N):\n",
    "        if not column_checker(j,B):\n",
    "            C=C+1\n",
    "    for i in range(N):\n",
    "        for j in range(N):\n",
    "            if not letter_check([i,j],B,lettersB,lettersdict):\n",
    "                L=L+1\n",
    "    U=R+C+L \n",
    "    return U\n",
    "#INPUTS: INITIAL MATRIX CURRENT, LETTERS OF THE CURRENT,LETTERS DIC AND MAXIMUM ALLOWED NUMBER OF STEPS\n",
    "def MIN_CONFLICTS(CURRENT,lettersCURRENT,lettersdic,maxsteps):    \n",
    "    #CURRENT is the VALUES OF THE MATRIX\n",
    "    iterat=0\n",
    "    N,M=np.shape(CURRENT)\n",
    "    A=CURRENT\n",
    "    #UTILITY FUNCTION U\n",
    "    U=UTILITYFUNCT(CURRENT,lettersdict,lettersCURRENT)\n",
    "    UA=U\n",
    "    for i in range(maxsteps):\n",
    "        iterat=iterat+1\n",
    "        if U==0:\n",
    "            print(CURRENT, 'is the solution for the problem')\n",
    "            return CURRENT,iterat\n",
    "        else:\n",
    "            #RANDOM NUMBERS FOR EACH VARIABLE\n",
    "            for j in range(N):\n",
    "                for k in range(N):\n",
    "                    A=CURRENT\n",
    "                    A[j,k]=random.randint(1,N)\n",
    "                    UA=UTILITYFUNCT(A,lettersdic,lettersCURRENT)\n",
    "                    if UA<U:\n",
    "                        U=UA\n",
    "                        CURRENT=A\n",
    "                        \n",
    "                    \n",
    "    print(\"THE ALGORITHM DID NOT FIND THE FINAL SOLUTION AFTER\", maxsteps, \"ITERATIONS\")\n",
    "    print(\"THE FINAL UTILITY FUNCTION WAS\",U,\"WITH MATRIX\",CURRENT)\n",
    "    "
   ]
  },
  {
   "cell_type": "code",
   "execution_count": 8,
   "metadata": {},
   "outputs": [
    {
     "name": "stdout",
     "output_type": "stream",
     "text": [
      "[[1 5 4 2 3 6]\n",
      " [6 5 3 2 1 4]\n",
      " [5 1 4 2 3 6]\n",
      " [1 2 4 6 5 3]\n",
      " [2 3 6 4 5 1]\n",
      " [6 4 2 1 3 5]] is not the solution for the problem\n",
      "the initial utility function is 38\n"
     ]
    },
    {
     "ename": "KeyboardInterrupt",
     "evalue": "",
     "output_type": "error",
     "traceback": [
      "\u001b[1;31m---------------------------------------------------------------------------\u001b[0m",
      "\u001b[1;31mKeyboardInterrupt\u001b[0m                         Traceback (most recent call last)",
      "\u001b[1;32m<ipython-input-8-b4a68a538753>\u001b[0m in \u001b[0;36m<module>\u001b[1;34m\u001b[0m\n\u001b[0;32m     20\u001b[0m \u001b[0mU0\u001b[0m\u001b[1;33m=\u001b[0m\u001b[0mUTILITYFUNCT\u001b[0m\u001b[1;33m(\u001b[0m\u001b[0mA\u001b[0m\u001b[1;33m,\u001b[0m\u001b[0mlettersdict\u001b[0m\u001b[1;33m,\u001b[0m\u001b[0mlettersA\u001b[0m\u001b[1;33m)\u001b[0m\u001b[1;33m\u001b[0m\u001b[1;33m\u001b[0m\u001b[0m\n\u001b[0;32m     21\u001b[0m \u001b[0mprint\u001b[0m\u001b[1;33m(\u001b[0m\u001b[1;34m\"the initial utility function is\"\u001b[0m\u001b[1;33m,\u001b[0m\u001b[0mU0\u001b[0m\u001b[1;33m)\u001b[0m\u001b[1;33m\u001b[0m\u001b[1;33m\u001b[0m\u001b[0m\n\u001b[1;32m---> 22\u001b[1;33m \u001b[0mMIN_CONFLICTS\u001b[0m\u001b[1;33m(\u001b[0m\u001b[0mA\u001b[0m\u001b[1;33m,\u001b[0m\u001b[0mlettersA\u001b[0m\u001b[1;33m,\u001b[0m\u001b[0mlettersdict\u001b[0m\u001b[1;33m,\u001b[0m\u001b[0mmax_steps\u001b[0m\u001b[1;33m)\u001b[0m\u001b[1;33m\u001b[0m\u001b[1;33m\u001b[0m\u001b[0m\n\u001b[0m\u001b[0;32m     23\u001b[0m \u001b[0mfinish\u001b[0m\u001b[1;33m=\u001b[0m\u001b[0mtime\u001b[0m\u001b[1;33m.\u001b[0m\u001b[0mtime\u001b[0m\u001b[1;33m(\u001b[0m\u001b[1;33m)\u001b[0m\u001b[1;33m-\u001b[0m\u001b[0mstart\u001b[0m\u001b[1;33m\u001b[0m\u001b[1;33m\u001b[0m\u001b[0m\n\u001b[0;32m     24\u001b[0m \u001b[0mprint\u001b[0m\u001b[1;33m(\u001b[0m\u001b[1;34m\"the time of execution was\"\u001b[0m\u001b[1;33m,\u001b[0m\u001b[0mfinish\u001b[0m\u001b[1;33m)\u001b[0m\u001b[1;33m\u001b[0m\u001b[1;33m\u001b[0m\u001b[0m\n",
      "\u001b[1;32m<ipython-input-4-5afd94313445>\u001b[0m in \u001b[0;36mMIN_CONFLICTS\u001b[1;34m(CURRENT, lettersCURRENT, lettersdic, maxsteps)\u001b[0m\n\u001b[0;32m     40\u001b[0m                     \u001b[0mA\u001b[0m\u001b[1;33m=\u001b[0m\u001b[0mCURRENT\u001b[0m\u001b[1;33m\u001b[0m\u001b[1;33m\u001b[0m\u001b[0m\n\u001b[0;32m     41\u001b[0m                     \u001b[0mA\u001b[0m\u001b[1;33m[\u001b[0m\u001b[0mj\u001b[0m\u001b[1;33m,\u001b[0m\u001b[0mk\u001b[0m\u001b[1;33m]\u001b[0m\u001b[1;33m=\u001b[0m\u001b[0mrandom\u001b[0m\u001b[1;33m.\u001b[0m\u001b[0mrandint\u001b[0m\u001b[1;33m(\u001b[0m\u001b[1;36m1\u001b[0m\u001b[1;33m,\u001b[0m\u001b[0mN\u001b[0m\u001b[1;33m)\u001b[0m\u001b[1;33m\u001b[0m\u001b[1;33m\u001b[0m\u001b[0m\n\u001b[1;32m---> 42\u001b[1;33m                     \u001b[0mUA\u001b[0m\u001b[1;33m=\u001b[0m\u001b[0mUTILITYFUNCT\u001b[0m\u001b[1;33m(\u001b[0m\u001b[0mA\u001b[0m\u001b[1;33m,\u001b[0m\u001b[0mlettersdic\u001b[0m\u001b[1;33m,\u001b[0m\u001b[0mlettersCURRENT\u001b[0m\u001b[1;33m)\u001b[0m\u001b[1;33m\u001b[0m\u001b[1;33m\u001b[0m\u001b[0m\n\u001b[0m\u001b[0;32m     43\u001b[0m                     \u001b[1;32mif\u001b[0m \u001b[0mUA\u001b[0m\u001b[1;33m<\u001b[0m\u001b[0mU\u001b[0m\u001b[1;33m:\u001b[0m\u001b[1;33m\u001b[0m\u001b[1;33m\u001b[0m\u001b[0m\n\u001b[0;32m     44\u001b[0m                         \u001b[0mU\u001b[0m\u001b[1;33m=\u001b[0m\u001b[0mUA\u001b[0m\u001b[1;33m\u001b[0m\u001b[1;33m\u001b[0m\u001b[0m\n",
      "\u001b[1;32m<ipython-input-4-5afd94313445>\u001b[0m in \u001b[0;36mUTILITYFUNCT\u001b[1;34m(B, lettersdict, lettersB)\u001b[0m\n\u001b[0;32m      9\u001b[0m     \u001b[0mL\u001b[0m\u001b[1;33m=\u001b[0m\u001b[1;36m0\u001b[0m\u001b[1;33m\u001b[0m\u001b[1;33m\u001b[0m\u001b[0m\n\u001b[0;32m     10\u001b[0m     \u001b[1;32mfor\u001b[0m \u001b[0mi\u001b[0m \u001b[1;32min\u001b[0m \u001b[0mrange\u001b[0m\u001b[1;33m(\u001b[0m\u001b[0mN\u001b[0m\u001b[1;33m)\u001b[0m\u001b[1;33m:\u001b[0m\u001b[1;33m\u001b[0m\u001b[1;33m\u001b[0m\u001b[0m\n\u001b[1;32m---> 11\u001b[1;33m         \u001b[1;32mif\u001b[0m \u001b[1;32mnot\u001b[0m \u001b[0mrow_checker\u001b[0m\u001b[1;33m(\u001b[0m\u001b[0mi\u001b[0m\u001b[1;33m,\u001b[0m\u001b[0mB\u001b[0m\u001b[1;33m)\u001b[0m\u001b[1;33m:\u001b[0m\u001b[1;33m\u001b[0m\u001b[1;33m\u001b[0m\u001b[0m\n\u001b[0m\u001b[0;32m     12\u001b[0m             \u001b[0mR\u001b[0m\u001b[1;33m=\u001b[0m\u001b[0mR\u001b[0m\u001b[1;33m+\u001b[0m\u001b[1;36m1\u001b[0m\u001b[1;33m\u001b[0m\u001b[1;33m\u001b[0m\u001b[0m\n\u001b[0;32m     13\u001b[0m     \u001b[1;32mfor\u001b[0m \u001b[0mj\u001b[0m \u001b[1;32min\u001b[0m \u001b[0mrange\u001b[0m\u001b[1;33m(\u001b[0m\u001b[0mN\u001b[0m\u001b[1;33m)\u001b[0m\u001b[1;33m:\u001b[0m\u001b[1;33m\u001b[0m\u001b[1;33m\u001b[0m\u001b[0m\n",
      "\u001b[1;32m~\\Desktop\\PYTHON AI\\functions.py\u001b[0m in \u001b[0;36mrow_checker\u001b[1;34m(row, matrix)\u001b[0m\n\u001b[0;32m     44\u001b[0m \u001b[1;31m#row checker:\u001b[0m\u001b[1;33m\u001b[0m\u001b[1;33m\u001b[0m\u001b[1;33m\u001b[0m\u001b[0m\n\u001b[0;32m     45\u001b[0m \u001b[1;32mdef\u001b[0m \u001b[0mrow_checker\u001b[0m\u001b[1;33m(\u001b[0m\u001b[0mrow\u001b[0m\u001b[1;33m,\u001b[0m\u001b[0mmatrix\u001b[0m\u001b[1;33m)\u001b[0m\u001b[1;33m:\u001b[0m\u001b[1;33m\u001b[0m\u001b[1;33m\u001b[0m\u001b[0m\n\u001b[1;32m---> 46\u001b[1;33m     \u001b[0mcopy_mat\u001b[0m\u001b[1;33m=\u001b[0m\u001b[0mmatrix\u001b[0m\u001b[1;33m[\u001b[0m\u001b[0mrow\u001b[0m\u001b[1;33m]\u001b[0m\u001b[1;33m.\u001b[0m\u001b[0mcopy\u001b[0m\u001b[1;33m(\u001b[0m\u001b[1;33m)\u001b[0m\u001b[1;33m\u001b[0m\u001b[1;33m\u001b[0m\u001b[0m\n\u001b[0m\u001b[0;32m     47\u001b[0m     \u001b[0mcopy_mat\u001b[0m\u001b[1;33m=\u001b[0m\u001b[1;33m[\u001b[0m\u001b[0mx\u001b[0m \u001b[1;32mfor\u001b[0m \u001b[0mx\u001b[0m \u001b[1;32min\u001b[0m \u001b[0mcopy_mat\u001b[0m \u001b[1;32mif\u001b[0m \u001b[0mx\u001b[0m \u001b[1;33m!=\u001b[0m \u001b[1;36m0\u001b[0m\u001b[1;33m]\u001b[0m\u001b[1;33m\u001b[0m\u001b[1;33m\u001b[0m\u001b[0m\n\u001b[0;32m     48\u001b[0m     \u001b[1;32mreturn\u001b[0m \u001b[0mlen\u001b[0m\u001b[1;33m(\u001b[0m\u001b[0mcopy_mat\u001b[0m\u001b[1;33m)\u001b[0m\u001b[1;33m==\u001b[0m\u001b[0mlen\u001b[0m\u001b[1;33m(\u001b[0m\u001b[0mset\u001b[0m\u001b[1;33m(\u001b[0m\u001b[0mcopy_mat\u001b[0m\u001b[1;33m)\u001b[0m\u001b[1;33m)\u001b[0m\u001b[1;33m\u001b[0m\u001b[1;33m\u001b[0m\u001b[0m\n",
      "\u001b[1;31mKeyboardInterrupt\u001b[0m: "
     ]
    }
   ],
   "source": [
    "start=time.time()\n",
    "lettersA,A,lettersdict=setup(\"sampleData.txt\")\n",
    "# FIRST ASSIGNMENT\n",
    "m,n=np.shape(A)\n",
    "max_steps=10**4\n",
    "#THIS IS JUST FOR CREATING THE FIRST INITIAL MATRIX WITH ALL NUMBERS DIFFERENT IN EACH ROW\n",
    "v=[i for i in range(1,n+1)]\n",
    "perm=list(itertools.permutations(v))\n",
    "L=len(perm)\n",
    "#We start with different numbers in each row\n",
    "for i in range(m):\n",
    "        A[i]=perm[random.randint(0,L)]\n",
    "#UTILITY FUNCTION: U=R+C+L; R=ROWS REPEATED,C=COLUMNS REPEATED, L=NUMBER OF LETTERS WHO DON'T GET THE RESULT\n",
    "# We want obtain 0 in this function\n",
    "U=1000000;\n",
    "if check_all(A,lettersA,lettersdict):\n",
    "    print(A, 'is the solution for the problem')\n",
    "else:\n",
    "    print(A,'is not the solution for the problem')\n",
    "U0=UTILITYFUNCT(A,lettersdict,lettersA)    \n",
    "print(\"the initial utility function is\",U0)\n",
    "MIN_CONFLICTS(A,lettersA,lettersdict,max_steps)\n",
    "finish=time.time()-start\n",
    "print(\"the time of execution was\",finish)"
   ]
  }
 ],
 "metadata": {
  "kernelspec": {
   "display_name": "Python 3",
   "language": "python",
   "name": "python3"
  },
  "language_info": {
   "codemirror_mode": {
    "name": "ipython",
    "version": 3
   },
   "file_extension": ".py",
   "mimetype": "text/x-python",
   "name": "python",
   "nbconvert_exporter": "python",
   "pygments_lexer": "ipython3",
   "version": "3.7.1"
  }
 },
 "nbformat": 4,
 "nbformat_minor": 2
}
