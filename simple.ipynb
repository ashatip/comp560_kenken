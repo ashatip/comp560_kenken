{
 "cells": [
  {
   "cell_type": "code",
   "execution_count": 2,
   "metadata": {},
   "outputs": [],
   "source": [
    "import string\n",
    "import random\n",
    "import unittest\n",
    "import numpy as np\n"
   ]
  },
  {
   "cell_type": "markdown",
   "metadata": {},
   "source": [
    "DONE\n",
    "\n",
    "setup \n",
    "\n",
    "DONE\n",
    "n=1st line is number\n",
    "for by n\n",
    "    2D array: of letters\n",
    "letters: dictionary\n",
    "\n",
    "constricters\n",
    "DONE\n",
    "row check: when number is place check row if it already has that number\n",
    "DONE\n",
    "column check: when number is place check column if it already has that number\n",
    "\n",
    "\n",
    "letter check: when number is place check letter if it works\n",
    "parameter: location of that place you want to check if it works or not\n",
    "DONE\n",
    "simple: \n",
    "for loop go through each of the rows one by one and fill it up"
   ]
  },
  {
   "cell_type": "code",
   "execution_count": 1,
   "metadata": {},
   "outputs": [],
   "source": [
    "import string\n",
    "import random\n",
    "import unittest\n",
    "import numpy as np\n",
    "\n",
    "def setup(file_name):\n",
    "    #open the file\n",
    "    file=open(file_name,\"r\")\n",
    "    #read the first line\n",
    "    dim=int(file.readline(1))\n",
    "    #creating arrays\n",
    "    letter_array=[[0]*dim for i in range(dim)]\n",
    "    solution=np.array([[0]*dim for i in range(dim)])\n",
    "    #letter_dict: keys are the letters,\n",
    "    ##values are an array: first index: operation\n",
    "    ###example: 11+\n",
    "    ##second value: array with places of the letter\n",
    "    letter_dict=dict()\n",
    "    #loop through each line and put it in an array\n",
    "    y=0\n",
    "    for line in file:\n",
    "        if line=='\\n':\n",
    "            next\n",
    "        elif y==dim:\n",
    "            #add letter operations\n",
    "            oper=line.strip().split(\":\")\n",
    "            letter_dict[oper[0]][0]=oper[1]\n",
    "            next\n",
    "        else:\n",
    "            #adding value to array\n",
    "            letter_array[y]=list(line.strip())\n",
    "            #adding letter to dictionary and location\n",
    "            x=0\n",
    "            for key in list(line.strip()):\n",
    "                if key in letter_dict:\n",
    "                    letter_dict[key].append([y,x])\n",
    "                else:\n",
    "                    letter_dict[key]=[\"\",[y,x]]\n",
    "                x=x+1\n",
    "            y=y+1\n",
    "    return letter_array,solution,letter_dict\n",
    "        \n",
    "#row checker:\n",
    "def row_checker(row,matrix):\n",
    "    copy_mat=matrix[row].copy()\n",
    "    copy_mat=[x for x in copy_mat if x != 0]\n",
    "    return len(copy_mat)==len(set(copy_mat))\n",
    "#column checker:\n",
    "def column_checker(column,matrix):\n",
    "    copy_mat=[row[column] for row in matrix].copy()\n",
    "    copy_mat=[x for x in copy_mat if x != 0]\n",
    "    return len(copy_mat)==len(set(copy_mat))\n",
    "\n",
    "#letter_checker: based on location\n",
    "#assumptions are that - and / only have two numbers\n",
    "def letter_check(location,matrix,letter_array,letter_dict):\n",
    "    letter=letter_array[location[0]][location[1]]\n",
    "    oper=letter_dict.get(letter)[0][-1]\n",
    "    if oper.isdigit(): \n",
    "        total=int(letter_dict.get(letter)[0])\n",
    "    else:\n",
    "        total=int(letter_dict.get(letter)[0][:-1])\n",
    "    values=letter_dict.get(letter)[1:]\n",
    "    first=True\n",
    "    if(oper == \"-\")|(oper == '/'):\n",
    "        val0=values[0]\n",
    "        val1=values[1]\n",
    "        num0=int(matrix[val0[0]][val0[1]])\n",
    "        num1=int(matrix[val1[0]][val1[1]])\n",
    "        if(num1==0)|(num0==0):\n",
    "            return True\n",
    "        if num0>=num1:\n",
    "            total_num=str(num0)+oper+str(num1)\n",
    "        else:\n",
    "            total_num=str(num1)+oper+str(num0)\n",
    "    else:\n",
    "        for val in values:\n",
    "            num=matrix[val[0]][val[1]]\n",
    "            if(num==0):\n",
    "                return True\n",
    "            if first:\n",
    "                total_num=str(num)\n",
    "                first=False\n",
    "            else:\n",
    "                total_num=total_num+oper+str(num)\n",
    "    return int(total)==eval(total_num)\n",
    "\n",
    "\n",
    "def check_no_zero(location,matrix):\n",
    "    return matrix[location[0]][location[1]]!=0\n",
    "#check if all constants are working\n",
    "def check_all(matrix,letter_array,letter_dict):\n",
    "    for y in range(0,len(matrix)):\n",
    "            for x in range(0,len(matrix)):\n",
    "                if not (check_no_zero([x,y],matrix)==\n",
    "                    letter_check([x,y],matrix,letter_array,letter_dict)==\n",
    "                    column_checker(y,matrix)==\n",
    "                    row_checker(x,matrix)==\n",
    "                    True):\n",
    "                        return False\n",
    "    return True\n",
    "    \n",
    "    \n",
    "def simple_back(letter_array,matrix,letter_dict):\n",
    "    i=0\n",
    "    row=0\n",
    "    column=0\n",
    "    #looping\n",
    "    while(True):\n",
    "        i=1+i\n",
    "        #check if martix is complete\n",
    "        if check_all(matrix,letter_array,letter_dict):\n",
    "            return matrix, i\n",
    "        else:\n",
    "            #if value is 0 make it 1\n",
    "            if matrix[row,column]==0:\n",
    "                matrix[row,column]=1\n",
    "             #check if we can move to the next node\n",
    "            elif (True==\n",
    "                    letter_check([row,column],matrix,letter_array,letter_dict)==\n",
    "                    column_checker(column,matrix)==\n",
    "                    row_checker(row,matrix)\n",
    "                    ):\n",
    "                        #if the location is at the end of the row\n",
    "                        if(column==len(matrix)-1):\n",
    "                            column=0\n",
    "                            row=1+row\n",
    "                        else:\n",
    "                            column=column+1\n",
    "            #if the node does not work and is the last value \n",
    "            elif matrix[row,column]==len(matrix):\n",
    "                #goes through each of the values backwards and sets them to zero if they are the last value\n",
    "                while matrix[row,column]==len(matrix):\n",
    "                    matrix[row,column]=0\n",
    "                    if column==0:\n",
    "                        # at the first location and tried all combinations.\n",
    "                        if row==0:\n",
    "                              return \"No Solution\",i\n",
    "                        column=len(matrix)-1\n",
    "                        row=row-1\n",
    "                    else:\n",
    "                        column=column-1\n",
    "                matrix[row,column]=matrix[row,column]+1\n",
    "            else:\n",
    "                matrix[row,column]=matrix[row,column]+1"
   ]
  },
  {
   "cell_type": "code",
   "execution_count": 2,
   "metadata": {},
   "outputs": [],
   "source": [
    "letter_array,solution,letter_dict=setup(\"sampleData_6.txt\")"
   ]
  },
  {
   "cell_type": "code",
   "execution_count": null,
   "metadata": {},
   "outputs": [],
   "source": [
    "ex_sol,i=simple_back(letter_array,solution,letter_dict)"
   ]
  },
  {
   "cell_type": "code",
   "execution_count": 4,
   "metadata": {},
   "outputs": [
    {
     "data": {
      "text/plain": [
       "[['A', 'B', 'B', 'C', 'D', 'D'],\n",
       " ['A', 'E', 'E', 'C', 'F', 'D'],\n",
       " ['G', 'G', 'H', 'H', 'F', 'D'],\n",
       " ['G', 'G', 'I', 'J', 'K', 'K'],\n",
       " ['L', 'L', 'I', 'J', 'J', 'M'],\n",
       " ['N', 'N', 'N', 'O', 'O', 'M']]"
      ]
     },
     "execution_count": 4,
     "metadata": {},
     "output_type": "execute_result"
    }
   ],
   "source": [
    "letter_array"
   ]
  },
  {
   "cell_type": "code",
   "execution_count": 5,
   "metadata": {},
   "outputs": [
    {
     "data": {
      "text/plain": [
       "{'A': ['11+', [0, 0], [1, 0]],\n",
       " 'B': ['2/', [0, 1], [0, 2]],\n",
       " 'C': ['20*', [0, 3], [1, 3]],\n",
       " 'D': ['6*', [0, 4], [0, 5], [1, 5], [2, 5]],\n",
       " 'E': ['3-', [1, 1], [1, 2]],\n",
       " 'F': ['3/', [1, 4], [2, 4]],\n",
       " 'G': ['240*', [2, 0], [2, 1], [3, 0], [3, 1]],\n",
       " 'H': ['6*', [2, 2], [2, 3]],\n",
       " 'I': ['6*', [3, 2], [4, 2]],\n",
       " 'J': ['7+', [3, 3], [4, 3], [4, 4]],\n",
       " 'K': ['30*', [3, 4], [3, 5]],\n",
       " 'L': ['6*', [4, 0], [4, 1]],\n",
       " 'M': ['9+', [4, 5], [5, 5]],\n",
       " 'N': ['8+', [5, 0], [5, 1], [5, 2]],\n",
       " 'O': ['2/', [5, 3], [5, 4]]}"
      ]
     },
     "execution_count": 5,
     "metadata": {},
     "output_type": "execute_result"
    }
   ],
   "source": [
    "letter_dict"
   ]
  },
  {
   "cell_type": "code",
   "execution_count": 325,
   "metadata": {},
   "outputs": [
    {
     "data": {
      "text/plain": [
       "array([[0, 0, 0, 0, 0, 0],\n",
       "       [0, 0, 0, 0, 0, 0],\n",
       "       [0, 0, 0, 0, 0, 0],\n",
       "       [0, 0, 0, 0, 0, 0],\n",
       "       [0, 0, 0, 0, 0, 0],\n",
       "       [0, 0, 0, 0, 0, 0]])"
      ]
     },
     "execution_count": 325,
     "metadata": {},
     "output_type": "execute_result"
    }
   ],
   "source": [
    "solution"
   ]
  },
  {
   "cell_type": "code",
   "execution_count": 281,
   "metadata": {},
   "outputs": [],
   "source": [
    "#unittest"
   ]
  },
  {
   "cell_type": "code",
   "execution_count": 282,
   "metadata": {},
   "outputs": [
    {
     "name": "stdout",
     "output_type": "stream",
     "text": [
      "True\n"
     ]
    }
   ],
   "source": [
    "#checkrow\n",
    "test_number=[[random.randint(1,6)]*dim for i in range(dim)]\n",
    "a=row_checker(1,test_number)==False\n",
    "test_number[1]=[1,2,3,4,5,6]\n",
    "b=row_checker(1,test_number)==True\n",
    "test_number[1]=[0,0,2,4,5,6]\n",
    "c=row_checker(1,test_number)==True\n",
    "test_number[1]=[0,0,2,2,5,6]\n",
    "d=row_checker(1,test_number)==False\n",
    "test_number[1]=[0,0,0,0,0,0]\n",
    "e=row_checker(1,test_number)==True\n",
    "print(a==b==c==d==e==True)"
   ]
  },
  {
   "cell_type": "code",
   "execution_count": 283,
   "metadata": {},
   "outputs": [
    {
     "name": "stdout",
     "output_type": "stream",
     "text": [
      "True\n"
     ]
    }
   ],
   "source": [
    "#checkcolumn\n",
    "test_number=np.array([[0]*dim for i in range(dim)])\n",
    "a=column_checker(1,test_number)==True\n",
    "test_number[:,1]=[1,2,3,4,5,6]\n",
    "b=column_checker(1,test_number)==True\n",
    "test_number[:,1]=[0,0,2,4,5,6]\n",
    "c=column_checker(1,test_number)==True\n",
    "test_number[:,1]=[0,0,2,2,5,6]\n",
    "d=column_checker(1,test_number)==False\n",
    "test_number[:,1]=[0,0,0,0,0,0]\n",
    "e=column_checker(1,test_number)==True\n",
    "print(a==b==c==d==e==True)"
   ]
  },
  {
   "cell_type": "code",
   "execution_count": 22,
   "metadata": {},
   "outputs": [
    {
     "data": {
      "text/plain": [
       "True"
      ]
     },
     "execution_count": 22,
     "metadata": {},
     "output_type": "execute_result"
    }
   ],
   "source": [
    "real_sol=\"563412 614523 452361 341256 236145 125634\"\n",
    "real_sol=real_sol.split(\" \")\n",
    "for y in range(0,len(real_sol)):\n",
    "    real_sol[y]=list(real_sol[y])\n",
    "check_all(real_sol,letter_array,letter_dict)"
   ]
  },
  {
   "cell_type": "code",
   "execution_count": 23,
   "metadata": {},
   "outputs": [
    {
     "name": "stdout",
     "output_type": "stream",
     "text": [
      "True\n",
      "True\n",
      "!!!False\n",
      "False\n",
      "False\n",
      "True\n",
      "!!!False\n"
     ]
    }
   ],
   "source": [
    "\n",
    "for y in range(0,len(real_sol)):\n",
    "    for x in range(0,len(real_sol)):\n",
    "        if not (letter_check([x,y],real_sol,letter_array,letter_dict)):\n",
    "            print(False)\n",
    "            break \n",
    "print(True)\n",
    "\n",
    "real_sol[1][1]=0\n",
    "for y in range(0,len(real_sol)):\n",
    "    for x in range(0,len(real_sol)):\n",
    "        if not (letter_check([x,y],real_sol,letter_array,letter_dict)):\n",
    "            print(False)\n",
    "            break \n",
    "print(True)\n",
    "print(\"!!!\"+str(check_all(real_sol,letter_array,letter_dict)))\n",
    "\n",
    "real_sol[1][1]=4\n",
    "for y in range(0,len(real_sol)):\n",
    "    for x in range(0,len(real_sol)):\n",
    "        if not (letter_check([x,y],real_sol,letter_array,letter_dict)):\n",
    "            print(False)\n",
    "            break \n",
    "print(True)\n",
    "print(\"!!!\"+str(check_all(real_sol,letter_array,letter_dict)))"
   ]
  },
  {
   "cell_type": "code",
   "execution_count": 304,
   "metadata": {},
   "outputs": [
    {
     "data": {
      "text/plain": [
       "True"
      ]
     },
     "execution_count": 304,
     "metadata": {},
     "output_type": "execute_result"
    }
   ],
   "source": [
    "check_no_zero(real_sol)"
   ]
  },
  {
   "cell_type": "code",
   "execution_count": 305,
   "metadata": {},
   "outputs": [
    {
     "data": {
      "text/plain": [
       "False"
      ]
     },
     "execution_count": 305,
     "metadata": {},
     "output_type": "execute_result"
    }
   ],
   "source": [
    "real_sol[1][1]=0\n",
    "check_no_zero(real_sol)"
   ]
  },
  {
   "cell_type": "code",
   "execution_count": null,
   "metadata": {},
   "outputs": [],
   "source": []
  }
 ],
 "metadata": {
  "kernelspec": {
   "display_name": "Python 3",
   "language": "python",
   "name": "python3"
  },
  "language_info": {
   "codemirror_mode": {
    "name": "ipython",
    "version": 3
   },
   "file_extension": ".py",
   "mimetype": "text/x-python",
   "name": "python",
   "nbconvert_exporter": "python",
   "pygments_lexer": "ipython3",
   "version": "3.6.7"
  }
 },
 "nbformat": 4,
 "nbformat_minor": 2
}
