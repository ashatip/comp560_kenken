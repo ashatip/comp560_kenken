{
 "cells": [
  {
   "cell_type": "code",
   "execution_count": 66,
   "metadata": {},
   "outputs": [],
   "source": [
    "import string\n",
    "import random\n",
    "import unittest"
   ]
  },
  {
   "cell_type": "markdown",
   "metadata": {},
   "source": [
    "setup \n",
    "\n",
    "DONE\n",
    "n=1st line is number\n",
    "for by n\n",
    "    2D array: of letters\n",
    "letters: dictionary\n",
    "\n",
    "constricters\n",
    "DONE\n",
    "row check: when number is place check row if it already has that number\n",
    "\n",
    "column check: when number is place check column if it already has that number\n",
    "\n",
    "letter check: when number is place check letter if it works\n",
    "\n",
    "simple: \n",
    "for loop go through each of the rows one by one and fill it up"
   ]
  },
  {
   "cell_type": "code",
   "execution_count": 109,
   "metadata": {},
   "outputs": [],
   "source": [
    "def setup(file_name):\n",
    "    #open the file\n",
    "    file=open(file_name,\"r\")\n",
    "    #read the first line\n",
    "    dim=int(file.readline(1))\n",
    "    #creating arrays\n",
    "    letter_array=[[0]*dim for i in range(dim)]\n",
    "    solution=[[0]*dim for i in range(dim)]\n",
    "    #letter_dict: keys are the letters,\n",
    "    ##values are an array: first index: operation\n",
    "    ###example: 11+\n",
    "    ##second value: array with places of the letter\n",
    "    letter_dict=dict()\n",
    "    #loop through each line and put it in an array\n",
    "    y=0\n",
    "    for line in file:\n",
    "        if line=='\\n':\n",
    "            next\n",
    "        elif y==dim:\n",
    "            #add letter operations\n",
    "            oper=line.strip().split(\":\")\n",
    "            letter_dict[oper[0]][0]=oper[1]\n",
    "            next\n",
    "        else:\n",
    "            #adding value to array\n",
    "            letter_array[y]=list(line.strip())\n",
    "            #adding letter to dictionary and location\n",
    "            x=0\n",
    "            for key in list(line.strip()):\n",
    "                if key in letter_dict:\n",
    "                    letter_dict[key].append([x,y])\n",
    "                else:\n",
    "                    letter_dict[key]=[\"\",[x,y]]\n",
    "                x=x+1\n",
    "            y=y+1\n",
    "    return letter_array,solution,letter_dict\n",
    "        \n",
    "#row checker:\n",
    "def row_checker(row,matrix):\n",
    "    copy_mat=matrix[row].copy()\n",
    "    if 0 in copy_mat:\n",
    "        copy_mat.remove(0)\n",
    "    return len(copy_mat)==len(set(copy_mat))\n",
    "#column checker:\n",
    "def column_checker(column,matrix):\n",
    "    copy_mat=matrix[:,column].copy()\n",
    "    if 0 in copy_mat:\n",
    "        copy_mat.remove(0)\n",
    "    return len(copy_mat)==len(set(copy_mat))"
   ]
  },
  {
   "cell_type": "code",
   "execution_count": 112,
   "metadata": {},
   "outputs": [],
   "source": [
    "letter_array,solution,letter_dict=setup(\"sampleData.txt\")"
   ]
  },
  {
   "cell_type": "code",
   "execution_count": 99,
   "metadata": {},
   "outputs": [],
   "source": [
    "#unittest\n"
   ]
  },
  {
   "cell_type": "code",
   "execution_count": 118,
   "metadata": {},
   "outputs": [
    {
     "name": "stdout",
     "output_type": "stream",
     "text": [
      "False\n"
     ]
    }
   ],
   "source": [
    "#checkrow\n",
    "test_number=[[random.randint(1,6)]*dim for i in range(dim)]\n",
    "a=row_checker(1,test_number)==False\n",
    "test_number[1]=[1,2,3,4,5,6]\n",
    "b=row_checker(1,test_number)==True\n",
    "test_number[1]=[0,0,2,4,5,6]\n",
    "c=row_checker(1,test_number)==True\n",
    "test_number[1]=[0,0,2,2,5,6]\n",
    "d=row_checker(1,test_number)==False\n",
    "test_number[1]=[0,0,0,0,0,0]\n",
    "e=row_checker(1,test_number)==True\n",
    "print(a==b==c==d==e==True)"
   ]
  },
  {
   "cell_type": "code",
   "execution_count": 123,
   "metadata": {},
   "outputs": [
    {
     "data": {
      "text/plain": [
       "False"
      ]
     },
     "execution_count": 123,
     "metadata": {},
     "output_type": "execute_result"
    }
   ],
   "source": [
    "test_number[1]=[0,0,0,0,0,0]\n",
    "row_checker(1,test_number)"
   ]
  },
  {
   "cell_type": "code",
   "execution_count": 122,
   "metadata": {},
   "outputs": [
    {
     "data": {
      "text/plain": [
       "0"
      ]
     },
     "execution_count": 122,
     "metadata": {},
     "output_type": "execute_result"
    }
   ],
   "source": [
    "len(set([]))\n",
    "len([])"
   ]
  },
  {
   "cell_type": "code",
   "execution_count": null,
   "metadata": {},
   "outputs": [],
   "source": [
    "#checkcolumn\n",
    "test_number=[[0]*dim for i in range(dim)]\n",
    "a=column_checker(1,test_number)==True\n",
    "test_number[:,1]=[1,2,3,4,5,6]\n",
    "b=column_checker(1,test_number)==True\n",
    "test_number[1]=[0,0,2,4,5,6]\n",
    "c=column_checker(1,test_number)==True\n",
    "test_number[1]=[0,0,2,2,5,6]\n",
    "d=column_checker(1,test_number)==False\n",
    "print(a==b==c==d==True)"
   ]
  }
 ],
 "metadata": {
  "kernelspec": {
   "display_name": "Python 3",
   "language": "python",
   "name": "python3"
  },
  "language_info": {
   "codemirror_mode": {
    "name": "ipython",
    "version": 3
   },
   "file_extension": ".py",
   "mimetype": "text/x-python",
   "name": "python",
   "nbconvert_exporter": "python",
   "pygments_lexer": "ipython3",
   "version": "3.6.7"
  }
 },
 "nbformat": 4,
 "nbformat_minor": 2
}
