{
 "cells": [
  {
   "cell_type": "markdown",
   "metadata": {},
   "source": [
    "# LOCAL SEARCH"
   ]
  },
  {
   "cell_type": "code",
   "execution_count": 1,
   "metadata": {},
   "outputs": [],
   "source": [
    "import random\n",
    "import numpy as np\n",
    "import itertools\n",
    "from functions import *\n",
    "import time"
   ]
  },
  {
   "cell_type": "markdown",
   "metadata": {},
   "source": [
    "## Utility function and Min-conflicts algorithm"
   ]
  },
  {
   "cell_type": "code",
   "execution_count": 17,
   "metadata": {},
   "outputs": [],
   "source": [
    "#OUT UTILITY FUNCTION DEFINED BY U=R+C+L\n",
    "#R->NUMBER OF ROWS WITH EQUAL NUMBERS\n",
    "#C->NUMBER OF COLUMNS WITH EQUAL NUMBERS\n",
    "#L->NUMBER OF LOCATIONS THAT DON'T SATISFY THE LETTER RESTRICTION\n",
    "def UTILITYFUNCT(B,lettersdict,lettersB):\n",
    "    N=np.shape(B)[0]\n",
    "    R=0\n",
    "    C=0\n",
    "    L=0\n",
    "    for i in range(N):\n",
    "        if not row_checker(i,B):\n",
    "            R=R+1\n",
    "    for j in range(N):\n",
    "        if not column_checker(j,B):\n",
    "            C=C+1\n",
    "    for i in range(N):\n",
    "        for j in range(N):\n",
    "            if not letter_check([i,j],B,lettersB,lettersdict):\n",
    "                L=L+1\n",
    "    U=R+C+L \n",
    "    return U\n",
    "#INPUTS: INITIAL MATRIX CURRENT, LETTERS OF THE CURRENT,LETTERS DIC AND MAXIMUM ALLOWED NUMBER OF STEPS\n",
    "def MIN_CONFLICTS(CURRENT,lettersCURRENT,lettersdic):    \n",
    "    #CURRENT is the VALUES OF THE MATRIX\n",
    "    iterat=0\n",
    "    N,M=np.shape(CURRENT)\n",
    "    A=CURRENT\n",
    "    #UTILITY FUNCTION U\n",
    "    U=UTILITYFUNCT(CURRENT,lettersdict,lettersCURRENT)\n",
    "    UA=U\n",
    "    while True:\n",
    "        iterat=iterat+1\n",
    "        if U==0:\n",
    "            print(CURRENT, 'is the solution for the problem')\n",
    "            return CURRENT,iterat\n",
    "        else:\n",
    "            #RANDOM NUMBERS FOR EACH VARIABLE\n",
    "            for j in range(N):\n",
    "                for k in range(N):\n",
    "                    A=CURRENT\n",
    "                    if A[j,k]==len(A)+1:\n",
    "                        A[j,k]=0\n",
    "                    else:\n",
    "                        A[j,k]=A[j,k]+1\n",
    "                    UA=UTILITYFUNCT(A,lettersdic,lettersCURRENT)\n",
    "                    if UA<U:\n",
    "                        U=UA\n",
    "                        CURRENT=A\n",
    "                        \n",
    "                    \n",
    "    print(\"THE ALGORITHM DID NOT FIND THE FINAL SOLUTION AFTER\", maxsteps, \"ITERATIONS\")\n",
    "    print(\"THE FINAL UTILITY FUNCTION WAS\",U,\"WITH MATRIX\",CURRENT)\n",
    "    "
   ]
  },
  {
   "cell_type": "code",
   "execution_count": 18,
   "metadata": {},
   "outputs": [],
   "source": [
    "lettersA,A,lettersdict=setup(\"sampleData_3.txt\")"
   ]
  },
  {
   "cell_type": "code",
   "execution_count": 19,
   "metadata": {},
   "outputs": [],
   "source": [
    "dim=len(A)\n",
    "A=np.array([[1]*dim for i in range(dim)])"
   ]
  },
  {
   "cell_type": "code",
   "execution_count": 20,
   "metadata": {},
   "outputs": [
    {
     "ename": "KeyError",
     "evalue": "0",
     "output_type": "error",
     "traceback": [
      "\u001b[0;31m---------------------------------------------------------------------------\u001b[0m",
      "\u001b[0;31mKeyError\u001b[0m                                  Traceback (most recent call last)",
      "\u001b[0;32m<ipython-input-20-153def5fa3b1>\u001b[0m in \u001b[0;36m<module>\u001b[0;34m\u001b[0m\n\u001b[0;32m----> 1\u001b[0;31m \u001b[0mMIN_CONFLICTS\u001b[0m\u001b[0;34m(\u001b[0m\u001b[0mA\u001b[0m\u001b[0;34m,\u001b[0m\u001b[0mlettersdict\u001b[0m\u001b[0;34m,\u001b[0m\u001b[0mlettersA\u001b[0m\u001b[0;34m)\u001b[0m\u001b[0;34m\u001b[0m\u001b[0;34m\u001b[0m\u001b[0m\n\u001b[0m",
      "\u001b[0;32m<ipython-input-17-d652e7986211>\u001b[0m in \u001b[0;36mMIN_CONFLICTS\u001b[0;34m(CURRENT, lettersCURRENT, lettersdic)\u001b[0m\n\u001b[1;32m     27\u001b[0m     \u001b[0mA\u001b[0m\u001b[0;34m=\u001b[0m\u001b[0mCURRENT\u001b[0m\u001b[0;34m\u001b[0m\u001b[0;34m\u001b[0m\u001b[0m\n\u001b[1;32m     28\u001b[0m     \u001b[0;31m#UTILITY FUNCTION U\u001b[0m\u001b[0;34m\u001b[0m\u001b[0;34m\u001b[0m\u001b[0;34m\u001b[0m\u001b[0m\n\u001b[0;32m---> 29\u001b[0;31m     \u001b[0mU\u001b[0m\u001b[0;34m=\u001b[0m\u001b[0mUTILITYFUNCT\u001b[0m\u001b[0;34m(\u001b[0m\u001b[0mCURRENT\u001b[0m\u001b[0;34m,\u001b[0m\u001b[0mlettersdict\u001b[0m\u001b[0;34m,\u001b[0m\u001b[0mlettersCURRENT\u001b[0m\u001b[0;34m)\u001b[0m\u001b[0;34m\u001b[0m\u001b[0;34m\u001b[0m\u001b[0m\n\u001b[0m\u001b[1;32m     30\u001b[0m     \u001b[0mUA\u001b[0m\u001b[0;34m=\u001b[0m\u001b[0mU\u001b[0m\u001b[0;34m\u001b[0m\u001b[0;34m\u001b[0m\u001b[0m\n\u001b[1;32m     31\u001b[0m     \u001b[0;32mwhile\u001b[0m \u001b[0;32mTrue\u001b[0m\u001b[0;34m:\u001b[0m\u001b[0;34m\u001b[0m\u001b[0;34m\u001b[0m\u001b[0m\n",
      "\u001b[0;32m<ipython-input-17-d652e7986211>\u001b[0m in \u001b[0;36mUTILITYFUNCT\u001b[0;34m(B, lettersdict, lettersB)\u001b[0m\n\u001b[1;32m     16\u001b[0m     \u001b[0;32mfor\u001b[0m \u001b[0mi\u001b[0m \u001b[0;32min\u001b[0m \u001b[0mrange\u001b[0m\u001b[0;34m(\u001b[0m\u001b[0mN\u001b[0m\u001b[0;34m)\u001b[0m\u001b[0;34m:\u001b[0m\u001b[0;34m\u001b[0m\u001b[0;34m\u001b[0m\u001b[0m\n\u001b[1;32m     17\u001b[0m         \u001b[0;32mfor\u001b[0m \u001b[0mj\u001b[0m \u001b[0;32min\u001b[0m \u001b[0mrange\u001b[0m\u001b[0;34m(\u001b[0m\u001b[0mN\u001b[0m\u001b[0;34m)\u001b[0m\u001b[0;34m:\u001b[0m\u001b[0;34m\u001b[0m\u001b[0;34m\u001b[0m\u001b[0m\n\u001b[0;32m---> 18\u001b[0;31m             \u001b[0;32mif\u001b[0m \u001b[0;32mnot\u001b[0m \u001b[0mletter_check\u001b[0m\u001b[0;34m(\u001b[0m\u001b[0;34m[\u001b[0m\u001b[0mi\u001b[0m\u001b[0;34m,\u001b[0m\u001b[0mj\u001b[0m\u001b[0;34m]\u001b[0m\u001b[0;34m,\u001b[0m\u001b[0mB\u001b[0m\u001b[0;34m,\u001b[0m\u001b[0mlettersB\u001b[0m\u001b[0;34m,\u001b[0m\u001b[0mlettersdict\u001b[0m\u001b[0;34m)\u001b[0m\u001b[0;34m:\u001b[0m\u001b[0;34m\u001b[0m\u001b[0;34m\u001b[0m\u001b[0m\n\u001b[0m\u001b[1;32m     19\u001b[0m                 \u001b[0mL\u001b[0m\u001b[0;34m=\u001b[0m\u001b[0mL\u001b[0m\u001b[0;34m+\u001b[0m\u001b[0;36m1\u001b[0m\u001b[0;34m\u001b[0m\u001b[0;34m\u001b[0m\u001b[0m\n\u001b[1;32m     20\u001b[0m     \u001b[0mU\u001b[0m\u001b[0;34m=\u001b[0m\u001b[0mR\u001b[0m\u001b[0;34m+\u001b[0m\u001b[0mC\u001b[0m\u001b[0;34m+\u001b[0m\u001b[0mL\u001b[0m\u001b[0;34m\u001b[0m\u001b[0;34m\u001b[0m\u001b[0m\n",
      "\u001b[0;32m~/comp560/comp560_kenken/functions.py\u001b[0m in \u001b[0;36mletter_check\u001b[0;34m(location, matrix, letter_array, letter_dict)\u001b[0m\n\u001b[1;32m     63\u001b[0m             \u001b[0;31m###1st value is total and operation\u001b[0m\u001b[0;34m\u001b[0m\u001b[0;34m\u001b[0m\u001b[0;34m\u001b[0m\u001b[0m\n\u001b[1;32m     64\u001b[0m             \u001b[0;31m### the other values are locations of the letter\u001b[0m\u001b[0;34m\u001b[0m\u001b[0;34m\u001b[0m\u001b[0;34m\u001b[0m\u001b[0m\n\u001b[0;32m---> 65\u001b[0;31m     \u001b[0mletter\u001b[0m\u001b[0;34m=\u001b[0m\u001b[0mletter_array\u001b[0m\u001b[0;34m[\u001b[0m\u001b[0mlocation\u001b[0m\u001b[0;34m[\u001b[0m\u001b[0;36m0\u001b[0m\u001b[0;34m]\u001b[0m\u001b[0;34m]\u001b[0m\u001b[0;34m[\u001b[0m\u001b[0mlocation\u001b[0m\u001b[0;34m[\u001b[0m\u001b[0;36m1\u001b[0m\u001b[0;34m]\u001b[0m\u001b[0;34m]\u001b[0m\u001b[0;34m\u001b[0m\u001b[0;34m\u001b[0m\u001b[0m\n\u001b[0m\u001b[1;32m     66\u001b[0m     \u001b[0moper\u001b[0m\u001b[0;34m=\u001b[0m\u001b[0mletter_dict\u001b[0m\u001b[0;34m.\u001b[0m\u001b[0mget\u001b[0m\u001b[0;34m(\u001b[0m\u001b[0mletter\u001b[0m\u001b[0;34m)\u001b[0m\u001b[0;34m[\u001b[0m\u001b[0;36m0\u001b[0m\u001b[0;34m]\u001b[0m\u001b[0;34m[\u001b[0m\u001b[0;34m-\u001b[0m\u001b[0;36m1\u001b[0m\u001b[0;34m]\u001b[0m\u001b[0;34m\u001b[0m\u001b[0;34m\u001b[0m\u001b[0m\n\u001b[1;32m     67\u001b[0m     \u001b[0;31m#check if oper is a digit or not because some values can only be a digit with no operation\u001b[0m\u001b[0;34m\u001b[0m\u001b[0;34m\u001b[0m\u001b[0;34m\u001b[0m\u001b[0m\n",
      "\u001b[0;31mKeyError\u001b[0m: 0"
     ]
    }
   ],
   "source": [
    "MIN_CONFLICTS(A,lettersdict,lettersA)"
   ]
  },
  {
   "cell_type": "code",
   "execution_count": 3,
   "metadata": {},
   "outputs": [
    {
     "name": "stdout",
     "output_type": "stream",
     "text": [
      "[[1 2 3]\n",
      " [3 1 2]\n",
      " [1 3 2]] is not the solution for the problem\n",
      "the initial utility function is 6\n",
      "[[1 2 1]\n",
      " [1 1 3]\n",
      " [2 1 3]] is the solution for the problem\n",
      "the time of execution was 2.213440179824829\n"
     ]
    }
   ],
   "source": [
    "start=time.time()\n",
    "lettersA,A,lettersdict=setup(\"sampleData_3.txt\")\n",
    "# FIRST ASSIGNMENT\n",
    "m,n=np.shape(A)\n",
    "max_steps=10**4\n",
    "#THIS IS JUST FOR CREATING THE FIRST INITIAL MATRIX WITH ALL NUMBERS DIFFERENT IN EACH ROW\n",
    "v=[i for i in range(1,n+1)]\n",
    "perm=list(itertools.permutations(v))\n",
    "L=len(perm)\n",
    "#We start with different numbers in each row\n",
    "for i in range(m):\n",
    "        A[i]=perm[random.randint(0,L)]\n",
    "#UTILITY FUNCTION: U=R+C+L; R=ROWS REPEATED,C=COLUMNS REPEATED, L=NUMBER OF LETTERS WHO DON'T GET THE RESULT\n",
    "# We want obtain 0 in this function\n",
    "U=1000000;\n",
    "if check_all(A,lettersA,lettersdict):\n",
    "    print(A, 'is the solution for the problem')\n",
    "else:\n",
    "    print(A,'is not the solution for the problem')\n",
    "U0=UTILITYFUNCT(A,lettersdict,lettersA)    \n",
    "print(\"the initial utility function is\",U0)\n",
    "MIN_CONFLICTS(A,lettersA,lettersdict,max_steps)\n",
    "finish=time.time()-start\n",
    "print(\"the time of execution was\",finish)"
   ]
  },
  {
   "cell_type": "code",
   "execution_count": null,
   "metadata": {},
   "outputs": [],
   "source": []
  }
 ],
 "metadata": {
  "kernelspec": {
   "display_name": "Python 3",
   "language": "python",
   "name": "python3"
  },
  "language_info": {
   "codemirror_mode": {
    "name": "ipython",
    "version": 3
   },
   "file_extension": ".py",
   "mimetype": "text/x-python",
   "name": "python",
   "nbconvert_exporter": "python",
   "pygments_lexer": "ipython3",
   "version": "3.6.7"
  }
 },
 "nbformat": 4,
 "nbformat_minor": 2
}
