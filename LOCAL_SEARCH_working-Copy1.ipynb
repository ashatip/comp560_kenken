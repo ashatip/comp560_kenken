{
 "cells": [
  {
   "cell_type": "markdown",
   "metadata": {},
   "source": [
    "# LOCAL SEARCH"
   ]
  },
  {
   "cell_type": "code",
   "execution_count": 3,
   "metadata": {},
   "outputs": [],
   "source": [
    "import random\n",
    "import numpy as np\n",
    "import itertools\n",
    "from functions import *\n",
    "import time"
   ]
  },
  {
   "cell_type": "markdown",
   "metadata": {},
   "source": [
    "## Utility function and Min-conflicts algorithm"
   ]
  },
  {
   "cell_type": "markdown",
   "metadata": {},
   "source": [
    "I mainly changed the else statemnt in min_conflicts\n",
    "but I also changed the parameter orders because it was confusing me"
   ]
  },
  {
   "cell_type": "code",
   "execution_count": 69,
   "metadata": {},
   "outputs": [],
   "source": [
    "#OUT UTILITY FUNCTION DEFINED BY U=R+C+L\n",
    "#R->NUMBER OF ROWS WITH EQUAL NUMBERS\n",
    "#C->NUMBER OF COLUMNS WITH EQUAL NUMBERS\n",
    "#Z-> number of zeros\n",
    "#L->NUMBER OF LOCATIONS THAT DON'T SATISFY THE LETTER RESTRICTION\n",
    "def UTILITYFUNCT(B,lettersdict,lettersB):\n",
    "    N=np.shape(B)[0]\n",
    "    R=0\n",
    "    C=0\n",
    "    L=0\n",
    "    Z=0\n",
    "    for i in range(N):\n",
    "        for j in range(N):\n",
    "            if not check_no_zero([i,j],B):\n",
    "                Z=Z+1\n",
    "    for i in range(N):\n",
    "        if not row_checker(i,B):\n",
    "            R=R+1\n",
    "    for j in range(N):\n",
    "        if not column_checker(j,B):\n",
    "            C=C+1\n",
    "    for i in range(N):\n",
    "        for j in range(N):\n",
    "            if not letter_check([i,j],B,lettersB,lettersdict):\n",
    "                L=L+1\n",
    "    U=R+C+L+Z\n",
    "    return U\n",
    "#INPUTS: INITIAL MATRIX CURRENT, LETTERS OF THE CURRENT,LETTERS DIC AND MAXIMUM ALLOWED NUMBER OF STEPS\n",
    "def MIN_CONFLICTS(lettersdict,lettersCURRENT):\n",
    "    dim=len(lettersCURRENT)\n",
    "    CURRENT=np.array([[0]*dim for i in range(dim)])\n",
    "    choices,to_start=get_choices_letters(CURRENT,lettersdict)\n",
    "    #CURRENT is the VALUES OF THE MATRIX\n",
    "    iterat=0\n",
    "    for row in range(0,len(choices)):\n",
    "        for col in range(0,len(choices)):\n",
    "            CURRENT[row,col]=0\n",
    "    #UTILITY FUNCTION U\n",
    "    A=CURRENT\n",
    "    U=UTILITYFUNCT(CURRENT,lettersdict,lettersCURRENT)\n",
    "    UA=U\n",
    "    # is the value at the most constranted location \n",
    "    cur=0\n",
    "\n",
    "    while True:\n",
    "        iterat=iterat+1\n",
    "        if U==0:\n",
    "            return CURRENT,iterat\n",
    "        else:\n",
    "            ###main changes\n",
    "            j=int(to_start[cur][0][0])\n",
    "            k=int(to_start[cur][0][1])\n",
    "            A=CURRENT\n",
    "            #goes to the choices and picks one\n",
    "                ##if it is the last value, goes to the previous value\n",
    "                ###This is the problem\n",
    "            if A[j,k]==choices[j][k][-1]:\n",
    "                last_one=choices[j][k][-1]\n",
    "                place=A[j,k]\n",
    "            ##go through each of the previous values, if they are the last value of the choice martix then set it to 0 and go the the next previous location and do the same check\n",
    "                while place==last_one:\n",
    "                    #choices=add_location_possibilites(row,column,choices,matrix,letter_dict,letter_array)\n",
    "                    A[j,k]=0\n",
    "                    cur=cur-1\n",
    "                    if cur==-1:\n",
    "                        return \"No Solution\",A,iterat\n",
    "                    j=int(to_start[cur][0][0])\n",
    "                    k=int(to_start[cur][0][1])\n",
    "                    ##last_one is the last choice in the choice martix of that location\n",
    "                    last_one=choices[j][k][-1]\n",
    "                    place=A[j,k]\n",
    "            elif A[j,k]==0:\n",
    "                A[j,k]=choices[j][k][0]\n",
    "            else:\n",
    "                ind=(choices[j][k]).index(A[j,k])\n",
    "                A[j,k]=choices[j][k][ind+1]\n",
    "            UA=UTILITYFUNCT(A,lettersdict,lettersCURRENT)\n",
    "            #if utility function improved, kept it \n",
    "            if UA<U:\n",
    "                U=UA\n",
    "                CURRENT=A\n",
    "                cur=cur+1\n",
    "                print(A)\n",
    "                \n",
    "                \n",
    "                        "
   ]
  },
  {
   "cell_type": "code",
   "execution_count": 70,
   "metadata": {},
   "outputs": [],
   "source": [
    "letters_array,solutions,letters_dict=setup(\"sampleData_3.txt\")"
   ]
  },
  {
   "cell_type": "code",
   "execution_count": 71,
   "metadata": {},
   "outputs": [
    {
     "name": "stdout",
     "output_type": "stream",
     "text": [
      "[[0 0 0]\n",
      " [0 0 0]\n",
      " [0 0 2]]\n",
      "[[1 0 0]\n",
      " [0 0 0]\n",
      " [0 0 2]]\n",
      "[[1 0 0]\n",
      " [2 0 0]\n",
      " [0 0 2]]\n",
      "[[1 0 0]\n",
      " [2 1 0]\n",
      " [0 0 2]]\n",
      "[[1 0 0]\n",
      " [2 1 3]\n",
      " [0 0 2]]\n",
      "[[1 0 0]\n",
      " [2 1 3]\n",
      " [3 0 2]]\n",
      "('No Solution', array([[0, 0, 0],\n",
      "       [0, 0, 0],\n",
      "       [0, 0, 0]]), 16)\n"
     ]
    }
   ],
   "source": [
    "print(MIN_CONFLICTS(letters_dict,letters_array))"
   ]
  },
  {
   "cell_type": "code",
   "execution_count": 13,
   "metadata": {},
   "outputs": [
    {
     "data": {
      "text/plain": [
       "(array([[1, 2, 3],\n",
       "        [2, 3, 1],\n",
       "        [3, 1, 2]]), 11728)"
      ]
     },
     "execution_count": 13,
     "metadata": {},
     "output_type": "execute_result"
    }
   ],
   "source": [
    "dim=len(solutions)\n",
    "solutions=np.array([[1]*dim for i in range(dim)])\n",
    "#solution starts as 1s\n",
    "MIN_CONFLICTS(solutions,letters_dict,letters_array)"
   ]
  },
  {
   "cell_type": "code",
   "execution_count": 3,
   "metadata": {},
   "outputs": [
    {
     "name": "stdout",
     "output_type": "stream",
     "text": [
      "[[1 2 3]\n",
      " [3 1 2]\n",
      " [1 3 2]] is not the solution for the problem\n",
      "the initial utility function is 6\n",
      "[[1 2 1]\n",
      " [1 1 3]\n",
      " [2 1 3]] is the solution for the problem\n",
      "the time of execution was 2.213440179824829\n"
     ]
    }
   ],
   "source": [
    "start=time.time()\n",
    "lettersA,A,lettersdict=setup(\"sampleData_3.txt\")\n",
    "# FIRST ASSIGNMENT\n",
    "m,n=np.shape(A)\n",
    "max_steps=10**4\n",
    "#THIS IS JUST FOR CREATING THE FIRST INITIAL MATRIX WITH ALL NUMBERS DIFFERENT IN EACH ROW\n",
    "v=[i for i in range(1,n+1)]\n",
    "perm=list(itertools.permutations(v))\n",
    "L=len(perm)\n",
    "#We start with different numbers in each row\n",
    "for i in range(m):\n",
    "        A[i]=perm[random.randint(0,L)]\n",
    "#UTILITY FUNCTION: U=R+C+L; R=ROWS REPEATED,C=COLUMNS REPEATED, L=NUMBER OF LETTERS WHO DON'T GET THE RESULT\n",
    "# We want obtain 0 in this function\n",
    "U=1000000;\n",
    "if check_all(A,lettersA,lettersdict):\n",
    "    print(A, 'is the solution for the problem')\n",
    "else:\n",
    "    print(A,'is not the solution for the problem')\n",
    "U0=UTILITYFUNCT(A,lettersdict,lettersA)    \n",
    "print(\"the initial utility function is\",U0)\n",
    "MIN_CONFLICTS(A,lettersA,lettersdict,max_steps)\n",
    "finish=time.time()-start\n",
    "print(\"the time of execution was\",finish)"
   ]
  },
  {
   "cell_type": "code",
   "execution_count": null,
   "metadata": {},
   "outputs": [],
   "source": []
  }
 ],
 "metadata": {
  "kernelspec": {
   "display_name": "Python 3",
   "language": "python",
   "name": "python3"
  },
  "language_info": {
   "codemirror_mode": {
    "name": "ipython",
    "version": 3
   },
   "file_extension": ".py",
   "mimetype": "text/x-python",
   "name": "python",
   "nbconvert_exporter": "python",
   "pygments_lexer": "ipython3",
   "version": "3.6.7"
  }
 },
 "nbformat": 4,
 "nbformat_minor": 2
}
