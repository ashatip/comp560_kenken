{
 "cells": [
  {
   "cell_type": "code",
   "execution_count": 1,
   "metadata": {},
   "outputs": [],
   "source": [
    "from functions import *"
   ]
  },
  {
   "cell_type": "markdown",
   "metadata": {},
   "source": [
    "fail"
   ]
  },
  {
   "cell_type": "code",
   "execution_count": 2,
   "metadata": {},
   "outputs": [
    {
     "name": "stdout",
     "output_type": "stream",
     "text": [
      "No Solution\n",
      "\n",
      "96\n",
      "32\n"
     ]
    }
   ],
   "source": [
    "combination_searches(\"sampleData_3_fail.txt\")"
   ]
  },
  {
   "cell_type": "markdown",
   "metadata": {},
   "source": [
    "# Three"
   ]
  },
  {
   "cell_type": "code",
   "execution_count": 3,
   "metadata": {},
   "outputs": [
    {
     "name": "stdout",
     "output_type": "stream",
     "text": [
      "1 2 3\n",
      "2 3 1\n",
      "3 1 2\n",
      "\n",
      "31\n",
      "33\n"
     ]
    }
   ],
   "source": [
    "#new\n",
    "combination_searches(\"sampleData_3.txt\")"
   ]
  },
  {
   "cell_type": "code",
   "execution_count": 2,
   "metadata": {},
   "outputs": [
    {
     "name": "stdout",
     "output_type": "stream",
     "text": [
      "1 2 3\n",
      "2 3 1\n",
      "3 1 2\n",
      "\n",
      "31\n",
      "33\n"
     ]
    }
   ],
   "source": [
    "#old\n",
    "combination_searches(\"sampleData_3.txt\")"
   ]
  },
  {
   "cell_type": "markdown",
   "metadata": {},
   "source": [
    "# four"
   ]
  },
  {
   "cell_type": "code",
   "execution_count": 4,
   "metadata": {},
   "outputs": [
    {
     "name": "stdout",
     "output_type": "stream",
     "text": [
      "4 1 3 2\n",
      "3 2 1 4\n",
      "1 4 2 3\n",
      "2 3 4 1\n",
      "\n",
      "291\n",
      "126\n"
     ]
    }
   ],
   "source": [
    "#new\n",
    "combination_searches(\"sampleData_4.txt\")"
   ]
  },
  {
   "cell_type": "code",
   "execution_count": 4,
   "metadata": {},
   "outputs": [
    {
     "name": "stdout",
     "output_type": "stream",
     "text": [
      "4 1 3 2\n",
      "3 2 1 4\n",
      "1 4 2 3\n",
      "2 3 4 1\n",
      "\n",
      "291\n",
      "126\n"
     ]
    }
   ],
   "source": [
    "#old\n",
    "combination_searches(\"sampleData_4.txt\")"
   ]
  },
  {
   "cell_type": "markdown",
   "metadata": {},
   "source": [
    "five"
   ]
  },
  {
   "cell_type": "code",
   "execution_count": 5,
   "metadata": {},
   "outputs": [
    {
     "name": "stdout",
     "output_type": "stream",
     "text": [
      "5 3 4 1 2\n",
      "3 5 1 2 4\n",
      "1 4 2 5 3\n",
      "2 1 3 4 5\n",
      "4 2 5 3 1\n",
      "\n",
      "9214\n",
      "492\n"
     ]
    }
   ],
   "source": [
    "combination_searches(\"sampleData_5.txt\")"
   ]
  },
  {
   "cell_type": "code",
   "execution_count": 6,
   "metadata": {},
   "outputs": [
    {
     "name": "stdout",
     "output_type": "stream",
     "text": [
      "5 3 4 1 2\n",
      "3 5 1 2 4\n",
      "1 4 2 5 3\n",
      "2 1 3 4 5\n",
      "4 2 5 3 1\n",
      "\n",
      "9214\n",
      "492\n"
     ]
    }
   ],
   "source": [
    "#old\n",
    "combination_searches(\"sampleData_5.txt\")"
   ]
  },
  {
   "cell_type": "markdown",
   "metadata": {},
   "source": [
    "six"
   ]
  },
  {
   "cell_type": "code",
   "execution_count": 6,
   "metadata": {},
   "outputs": [
    {
     "name": "stdout",
     "output_type": "stream",
     "text": [
      "5 6 3 4 1 2\n",
      "6 1 4 5 2 3\n",
      "4 5 2 3 6 1\n",
      "3 4 1 2 5 6\n",
      "2 3 6 1 4 5\n",
      "1 2 5 6 3 4\n",
      "\n",
      "9906\n",
      "4058\n"
     ]
    }
   ],
   "source": [
    "#old\n",
    "combination_searches(\"sampleData_6.txt\")"
   ]
  },
  {
   "cell_type": "code",
   "execution_count": 7,
   "metadata": {},
   "outputs": [
    {
     "name": "stdout",
     "output_type": "stream",
     "text": [
      "5 6 3 4 1 2\n",
      "6 1 4 5 2 3\n",
      "4 5 2 3 6 1\n",
      "3 4 1 2 5 6\n",
      "2 3 6 1 4 5\n",
      "1 2 5 6 3 4\n",
      "\n",
      "9906\n",
      "4058\n"
     ]
    }
   ],
   "source": [
    "#new\n",
    "combination_searches(\"sampleData_6.txt\")"
   ]
  },
  {
   "cell_type": "code",
   "execution_count": 1,
   "metadata": {},
   "outputs": [
    {
     "data": {
      "text/plain": [
       "6"
      ]
     },
     "execution_count": 1,
     "metadata": {},
     "output_type": "execute_result"
    }
   ],
   "source": [
    "eval(\"1+5\")"
   ]
  },
  {
   "cell_type": "code",
   "execution_count": null,
   "metadata": {},
   "outputs": [],
   "source": []
  }
 ],
 "metadata": {
  "kernelspec": {
   "display_name": "Python 3",
   "language": "python",
   "name": "python3"
  },
  "language_info": {
   "codemirror_mode": {
    "name": "ipython",
    "version": 3
   },
   "file_extension": ".py",
   "mimetype": "text/x-python",
   "name": "python",
   "nbconvert_exporter": "python",
   "pygments_lexer": "ipython3",
   "version": "3.6.7"
  }
 },
 "nbformat": 4,
 "nbformat_minor": 2
}
