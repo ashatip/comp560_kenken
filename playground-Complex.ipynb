{
 "cells": [
  {
   "cell_type": "markdown",
   "metadata": {},
   "source": [
    "# Three"
   ]
  },
  {
   "cell_type": "code",
   "execution_count": 1,
   "metadata": {},
   "outputs": [],
   "source": [
    "from functions import *"
   ]
  },
  {
   "cell_type": "code",
   "execution_count": 9,
   "metadata": {},
   "outputs": [
    {
     "name": "stdout",
     "output_type": "stream",
     "text": [
      "1 2 3\n",
      "2 3 1\n",
      "3 1 2\n",
      "\n",
      "31\n",
      "33\n"
     ]
    }
   ],
   "source": [
    "combination_searches(\"sampleData_3.txt\")"
   ]
  },
  {
   "cell_type": "markdown",
   "metadata": {},
   "source": [
    "# four"
   ]
  },
  {
   "cell_type": "code",
   "execution_count": 3,
   "metadata": {},
   "outputs": [
    {
     "name": "stdout",
     "output_type": "stream",
     "text": [
      "4 1 3 2\n",
      "3 2 1 4\n",
      "1 4 2 3\n",
      "2 3 4 1\n",
      "\n",
      "291\n",
      "126\n"
     ]
    }
   ],
   "source": [
    "combination_searches(\"sampleData_4.txt\")"
   ]
  },
  {
   "cell_type": "code",
   "execution_count": 8,
   "metadata": {},
   "outputs": [
    {
     "name": "stdout",
     "output_type": "stream",
     "text": [
      "4 1 3 2\n",
      "3 2 1 4\n",
      "1 4 2 3\n",
      "2 3 4 1\n",
      "\n",
      "291\n",
      "126\n"
     ]
    }
   ],
   "source": [
    "combination_searches(\"sampleData_4.txt\")"
   ]
  },
  {
   "cell_type": "markdown",
   "metadata": {},
   "source": [
    "five"
   ]
  },
  {
   "cell_type": "code",
   "execution_count": 7,
   "metadata": {},
   "outputs": [
    {
     "name": "stdout",
     "output_type": "stream",
     "text": [
      "5 3 4 1 2\n",
      "3 5 1 2 4\n",
      "1 4 2 5 3\n",
      "2 1 3 4 5\n",
      "4 2 5 3 1\n",
      "\n",
      "9214\n",
      "492\n"
     ]
    }
   ],
   "source": [
    "combination_searches(\"sampleData_5.txt\")"
   ]
  },
  {
   "cell_type": "code",
   "execution_count": 4,
   "metadata": {},
   "outputs": [
    {
     "name": "stdout",
     "output_type": "stream",
     "text": [
      "5 3 4 1 2\n",
      "3 5 1 2 4\n",
      "1 4 2 5 3\n",
      "2 1 3 4 5\n",
      "4 2 5 3 1\n",
      "\n",
      "9214\n",
      "4665\n"
     ]
    }
   ],
   "source": [
    "#old\n",
    "#combination_searches(\"sampleData_5.txt\")"
   ]
  },
  {
   "cell_type": "markdown",
   "metadata": {},
   "source": [
    "six"
   ]
  },
  {
   "cell_type": "code",
   "execution_count": 6,
   "metadata": {},
   "outputs": [
    {
     "name": "stdout",
     "output_type": "stream",
     "text": [
      "5 6 3 4 1 2\n",
      "6 1 4 5 2 3\n",
      "4 5 2 3 6 1\n",
      "3 4 1 2 5 6\n",
      "2 3 6 1 4 5\n",
      "1 2 5 6 3 4\n",
      "\n",
      "9906\n",
      "3146\n"
     ]
    }
   ],
   "source": [
    "#old\n",
    "#combination_searches(\"sampleData_6.txt\")"
   ]
  },
  {
   "cell_type": "code",
   "execution_count": 6,
   "metadata": {},
   "outputs": [
    {
     "name": "stdout",
     "output_type": "stream",
     "text": [
      "5 6 3 4 1 2\n",
      "6 1 4 5 2 3\n",
      "4 5 2 3 6 1\n",
      "3 4 1 2 5 6\n",
      "2 3 6 1 4 5\n",
      "1 2 5 6 3 4\n",
      "\n",
      "9906\n",
      "4058\n"
     ]
    }
   ],
   "source": [
    "combination_searches(\"sampleData_6.txt\")"
   ]
  },
  {
   "cell_type": "code",
   "execution_count": 11,
   "metadata": {},
   "outputs": [
    {
     "data": {
      "text/plain": [
       "([[[5, 6],\n",
       "   [1, 2, 3, 4, 6],\n",
       "   [1, 2, 3, 4, 6],\n",
       "   [4, 5],\n",
       "   [1, 2, 3, 4, 6],\n",
       "   [1, 2, 3, 4, 6]],\n",
       "  [[5, 6],\n",
       "   [1, 2, 3, 4, 5, 6],\n",
       "   [1, 2, 3, 4, 5, 6],\n",
       "   [4, 5],\n",
       "   [1, 2, 3, 6],\n",
       "   [1, 2, 3, 4, 6]],\n",
       "  [[2, 3, 4, 5, 6],\n",
       "   [2, 3, 4, 5, 6],\n",
       "   [1, 2, 3, 4, 6],\n",
       "   [1, 2, 3, 4, 6],\n",
       "   [1, 2, 3, 6],\n",
       "   [1, 2, 3, 4, 6]],\n",
       "  [[2, 3, 4, 5, 6],\n",
       "   [2, 3, 4, 5, 6],\n",
       "   [1, 2, 3, 4, 6],\n",
       "   [1, 2, 3, 4, 5, 6],\n",
       "   [5, 6],\n",
       "   [5, 6]],\n",
       "  [[1, 2, 3, 4, 6],\n",
       "   [1, 2, 3, 4, 6],\n",
       "   [1, 2, 3, 4, 6],\n",
       "   [1, 2, 3, 4, 5, 6],\n",
       "   [1, 2, 3, 4, 5, 6],\n",
       "   [3, 4, 5, 6]],\n",
       "  [[1, 2, 3, 4, 5, 6],\n",
       "   [1, 2, 3, 4, 5, 6],\n",
       "   [1, 2, 3, 4, 5, 6],\n",
       "   [1, 2, 3, 4, 6],\n",
       "   [1, 2, 3, 4, 6],\n",
       "   [3, 4, 5, 6]]],\n",
       " [('00', 2),\n",
       "  ('03', 2),\n",
       "  ('10', 2),\n",
       "  ('13', 2),\n",
       "  ('34', 2),\n",
       "  ('35', 2),\n",
       "  ('14', 4),\n",
       "  ('24', 4),\n",
       "  ('45', 4),\n",
       "  ('55', 4),\n",
       "  ('01', 5),\n",
       "  ('02', 5),\n",
       "  ('04', 5),\n",
       "  ('05', 5),\n",
       "  ('15', 5),\n",
       "  ('20', 5),\n",
       "  ('21', 5),\n",
       "  ('22', 5),\n",
       "  ('23', 5),\n",
       "  ('25', 5),\n",
       "  ('30', 5),\n",
       "  ('31', 5),\n",
       "  ('32', 5),\n",
       "  ('40', 5),\n",
       "  ('41', 5),\n",
       "  ('42', 5),\n",
       "  ('53', 5),\n",
       "  ('54', 5),\n",
       "  ('11', 6),\n",
       "  ('12', 6),\n",
       "  ('33', 6),\n",
       "  ('43', 6),\n",
       "  ('44', 6),\n",
       "  ('50', 6),\n",
       "  ('51', 6),\n",
       "  ('52', 6)])"
      ]
     },
     "execution_count": 11,
     "metadata": {},
     "output_type": "execute_result"
    }
   ],
   "source": [
    "quick_get_choices_letters(\"sampleData_6.txt\")"
   ]
  },
  {
   "cell_type": "code",
   "execution_count": 10,
   "metadata": {},
   "outputs": [
    {
     "ename": "NameError",
     "evalue": "name 'choices' is not defined",
     "output_type": "error",
     "traceback": [
      "\u001b[0;31m---------------------------------------------------------------------------\u001b[0m",
      "\u001b[0;31mNameError\u001b[0m                                 Traceback (most recent call last)",
      "\u001b[0;32m<ipython-input-10-c9532899d520>\u001b[0m in \u001b[0;36m<module>\u001b[0;34m\u001b[0m\n\u001b[1;32m      1\u001b[0m \u001b[0mto_start\u001b[0m\u001b[0;34m=\u001b[0m\u001b[0mdict\u001b[0m\u001b[0;34m(\u001b[0m\u001b[0;34m)\u001b[0m\u001b[0;34m\u001b[0m\u001b[0;34m\u001b[0m\u001b[0m\n\u001b[0;32m----> 2\u001b[0;31m \u001b[0;32mfor\u001b[0m \u001b[0mi\u001b[0m \u001b[0;32min\u001b[0m \u001b[0mrange\u001b[0m\u001b[0;34m(\u001b[0m\u001b[0;36m0\u001b[0m\u001b[0;34m,\u001b[0m\u001b[0mlen\u001b[0m\u001b[0;34m(\u001b[0m\u001b[0mchoices\u001b[0m\u001b[0;34m)\u001b[0m\u001b[0;34m)\u001b[0m\u001b[0;34m:\u001b[0m\u001b[0;34m\u001b[0m\u001b[0;34m\u001b[0m\u001b[0m\n\u001b[0m\u001b[1;32m      3\u001b[0m     \u001b[0;32mfor\u001b[0m \u001b[0mj\u001b[0m \u001b[0;32min\u001b[0m \u001b[0mrange\u001b[0m\u001b[0;34m(\u001b[0m\u001b[0;36m0\u001b[0m\u001b[0;34m,\u001b[0m\u001b[0mlen\u001b[0m\u001b[0;34m(\u001b[0m\u001b[0mchoices\u001b[0m\u001b[0;34m)\u001b[0m\u001b[0;34m)\u001b[0m\u001b[0;34m:\u001b[0m\u001b[0;34m\u001b[0m\u001b[0;34m\u001b[0m\u001b[0m\n\u001b[1;32m      4\u001b[0m         \u001b[0mto_start\u001b[0m\u001b[0;34m[\u001b[0m\u001b[0mstr\u001b[0m\u001b[0;34m(\u001b[0m\u001b[0mi\u001b[0m\u001b[0;34m)\u001b[0m\u001b[0;34m+\u001b[0m\u001b[0mstr\u001b[0m\u001b[0;34m(\u001b[0m\u001b[0mj\u001b[0m\u001b[0;34m)\u001b[0m\u001b[0;34m]\u001b[0m\u001b[0;34m=\u001b[0m\u001b[0mlen\u001b[0m\u001b[0;34m(\u001b[0m\u001b[0mchoices\u001b[0m\u001b[0;34m[\u001b[0m\u001b[0mi\u001b[0m\u001b[0;34m]\u001b[0m\u001b[0;34m[\u001b[0m\u001b[0mj\u001b[0m\u001b[0;34m]\u001b[0m\u001b[0;34m)\u001b[0m\u001b[0;34m\u001b[0m\u001b[0;34m\u001b[0m\u001b[0m\n\u001b[1;32m      5\u001b[0m \u001b[0mto_start\u001b[0m \u001b[0;34m=\u001b[0m \u001b[0msorted\u001b[0m\u001b[0;34m(\u001b[0m\u001b[0mto_start\u001b[0m\u001b[0;34m.\u001b[0m\u001b[0mitems\u001b[0m\u001b[0;34m(\u001b[0m\u001b[0;34m)\u001b[0m\u001b[0;34m,\u001b[0m \u001b[0mkey\u001b[0m\u001b[0;34m=\u001b[0m\u001b[0;32mlambda\u001b[0m \u001b[0mx\u001b[0m\u001b[0;34m:\u001b[0m \u001b[0mx\u001b[0m\u001b[0;34m[\u001b[0m\u001b[0;36m1\u001b[0m\u001b[0;34m]\u001b[0m\u001b[0;34m)\u001b[0m\u001b[0;34m\u001b[0m\u001b[0;34m\u001b[0m\u001b[0m\n",
      "\u001b[0;31mNameError\u001b[0m: name 'choices' is not defined"
     ]
    }
   ],
   "source": [
    "to_start=dict()\n",
    "for i in range(0,len(choices)):\n",
    "    for j in range(0,len(choices)):\n",
    "        to_start[str(i)+str(j)]=len(choices[i][j])\n",
    "to_start = sorted(to_start.items(), key=lambda x: x[1])"
   ]
  },
  {
   "cell_type": "code",
   "execution_count": 28,
   "metadata": {},
   "outputs": [],
   "source": [
    "import operator\n",
    "sorted_to_start = sorted(to_start.items(), key=operator.itemgetter(1))"
   ]
  },
  {
   "cell_type": "code",
   "execution_count": 30,
   "metadata": {},
   "outputs": [
    {
     "data": {
      "text/plain": [
       "[('00', 2),\n",
       " ('03', 2),\n",
       " ('10', 2),\n",
       " ('13', 2),\n",
       " ('34', 2),\n",
       " ('35', 2),\n",
       " ('14', 4),\n",
       " ('24', 4),\n",
       " ('45', 4),\n",
       " ('55', 4),\n",
       " ('01', 5),\n",
       " ('02', 5),\n",
       " ('04', 5),\n",
       " ('05', 5),\n",
       " ('15', 5),\n",
       " ('20', 5),\n",
       " ('21', 5),\n",
       " ('22', 5),\n",
       " ('23', 5),\n",
       " ('25', 5),\n",
       " ('30', 5),\n",
       " ('31', 5),\n",
       " ('32', 5),\n",
       " ('40', 5),\n",
       " ('41', 5),\n",
       " ('42', 5),\n",
       " ('53', 5),\n",
       " ('54', 5),\n",
       " ('11', 6),\n",
       " ('12', 6),\n",
       " ('33', 6),\n",
       " ('43', 6),\n",
       " ('44', 6),\n",
       " ('50', 6),\n",
       " ('51', 6),\n",
       " ('52', 6)]"
      ]
     },
     "execution_count": 30,
     "metadata": {},
     "output_type": "execute_result"
    }
   ],
   "source": [
    "sorted_to_start"
   ]
  },
  {
   "cell_type": "code",
   "execution_count": null,
   "metadata": {},
   "outputs": [],
   "source": []
  }
 ],
 "metadata": {
  "kernelspec": {
   "display_name": "Python 3",
   "language": "python",
   "name": "python3"
  },
  "language_info": {
   "codemirror_mode": {
    "name": "ipython",
    "version": 3
   },
   "file_extension": ".py",
   "mimetype": "text/x-python",
   "name": "python",
   "nbconvert_exporter": "python",
   "pygments_lexer": "ipython3",
   "version": "3.6.7"
  }
 },
 "nbformat": 4,
 "nbformat_minor": 2
}
